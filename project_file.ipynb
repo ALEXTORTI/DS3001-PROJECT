{
 "cells": [
  {
   "cell_type": "code",
   "execution_count": 1,
   "metadata": {},
   "outputs": [],
   "source": [
    "#Group project!\n",
    "\n"
   ]
  },
  {
   "cell_type": "markdown",
   "metadata": {},
   "source": [
    "We've been hired by a new fizzy seltzer brand called Brian's Booze. The company has hired us as Data Scientists to determine which countries have the highest alcohol consumption so that their marketing team can target those countries to build/sell their brand in. It is our job to use different lifestyle variables that will help predict which countries have the highest alcohol consumption per capita. "
   ]
  },
  {
   "cell_type": "markdown",
   "metadata": {},
   "source": [
    "We will cluster alcohol consumption into low, medium, and high categories. "
   ]
  },
  {
   "cell_type": "code",
   "execution_count": 2,
   "metadata": {},
   "outputs": [],
   "source": [
    "# Load libraries\n",
    "import pandas as pd\n",
    "import numpy as np\n",
    "import plotly.express as px\n",
    "import plotly.graph_objects as go\n",
    "from sklearn.cluster import KMeans\n",
    "from sklearn.model_selection import train_test_split\n",
    "from sklearn.tree import DecisionTreeClassifier\n",
    "from sklearn.metrics import confusion_matrix\n",
    "import matplotlib.pyplot as plt\n",
    "from sklearn.preprocessing import StandardScaler, MinMaxScaler"
   ]
  },
  {
   "cell_type": "code",
   "execution_count": 3,
   "metadata": {},
   "outputs": [
    {
     "data": {
      "text/html": [
       "<div>\n",
       "<style scoped>\n",
       "    .dataframe tbody tr th:only-of-type {\n",
       "        vertical-align: middle;\n",
       "    }\n",
       "\n",
       "    .dataframe tbody tr th {\n",
       "        vertical-align: top;\n",
       "    }\n",
       "\n",
       "    .dataframe thead th {\n",
       "        text-align: right;\n",
       "    }\n",
       "</style>\n",
       "<table border=\"1\" class=\"dataframe\">\n",
       "  <thead>\n",
       "    <tr style=\"text-align: right;\">\n",
       "      <th></th>\n",
       "      <th>Country Name</th>\n",
       "      <th>Year</th>\n",
       "      <th>Alcohol Consumption</th>\n",
       "    </tr>\n",
       "  </thead>\n",
       "  <tbody>\n",
       "    <tr>\n",
       "      <th>0</th>\n",
       "      <td>Afghanistan</td>\n",
       "      <td>2015 [YR2015]</td>\n",
       "      <td>0.00874</td>\n",
       "    </tr>\n",
       "    <tr>\n",
       "      <th>1</th>\n",
       "      <td>Africa Eastern and Southern</td>\n",
       "      <td>2015 [YR2015]</td>\n",
       "      <td>4.75979799686623</td>\n",
       "    </tr>\n",
       "    <tr>\n",
       "      <th>2</th>\n",
       "      <td>Africa Western and Central</td>\n",
       "      <td>2015 [YR2015]</td>\n",
       "      <td>4.4374260825495</td>\n",
       "    </tr>\n",
       "    <tr>\n",
       "      <th>3</th>\n",
       "      <td>Albania</td>\n",
       "      <td>2015 [YR2015]</td>\n",
       "      <td>5.03752</td>\n",
       "    </tr>\n",
       "    <tr>\n",
       "      <th>4</th>\n",
       "      <td>Algeria</td>\n",
       "      <td>2015 [YR2015]</td>\n",
       "      <td>0.5844</td>\n",
       "    </tr>\n",
       "  </tbody>\n",
       "</table>\n",
       "</div>"
      ],
      "text/plain": [
       "                  Country Name           Year Alcohol Consumption\n",
       "0                  Afghanistan  2015 [YR2015]             0.00874\n",
       "1  Africa Eastern and Southern  2015 [YR2015]    4.75979799686623\n",
       "2   Africa Western and Central  2015 [YR2015]     4.4374260825495\n",
       "3                      Albania  2015 [YR2015]             5.03752\n",
       "4                      Algeria  2015 [YR2015]              0.5844"
      ]
     },
     "execution_count": 3,
     "metadata": {},
     "output_type": "execute_result"
    }
   ],
   "source": [
    "#let import all out data\n",
    "#Literacy Rate Data\n",
    "alc_df = pd.read_csv(\"/Users/alexandratorti/DS-3001/DS-3001/Final_Project/alcohol.csv\")\n",
    "df_alc = pd.melt(alc_df, id_vars=['Country Name', 'Country Code', 'Series Name', \"Series Code\"], var_name='Year', value_name='Alcohol Consumption')\n",
    "columns_to_drop = ['Series Name', 'Series Code', 'Country Code']\n",
    "df_alc = df_alc.drop(columns=columns_to_drop)\n",
    "df_alc.head()"
   ]
  },
  {
   "cell_type": "code",
   "execution_count": 4,
   "metadata": {},
   "outputs": [
    {
     "data": {
      "text/html": [
       "<div>\n",
       "<style scoped>\n",
       "    .dataframe tbody tr th:only-of-type {\n",
       "        vertical-align: middle;\n",
       "    }\n",
       "\n",
       "    .dataframe tbody tr th {\n",
       "        vertical-align: top;\n",
       "    }\n",
       "\n",
       "    .dataframe thead th {\n",
       "        text-align: right;\n",
       "    }\n",
       "</style>\n",
       "<table border=\"1\" class=\"dataframe\">\n",
       "  <thead>\n",
       "    <tr style=\"text-align: right;\">\n",
       "      <th></th>\n",
       "      <th>Country Name</th>\n",
       "      <th>Year</th>\n",
       "      <th>Literacy_rate</th>\n",
       "    </tr>\n",
       "  </thead>\n",
       "  <tbody>\n",
       "    <tr>\n",
       "      <th>0</th>\n",
       "      <td>Afghanistan</td>\n",
       "      <td>2015 [YR2015]</td>\n",
       "      <td>..</td>\n",
       "    </tr>\n",
       "    <tr>\n",
       "      <th>1</th>\n",
       "      <td>Albania</td>\n",
       "      <td>2015 [YR2015]</td>\n",
       "      <td>..</td>\n",
       "    </tr>\n",
       "    <tr>\n",
       "      <th>2</th>\n",
       "      <td>Algeria</td>\n",
       "      <td>2015 [YR2015]</td>\n",
       "      <td>..</td>\n",
       "    </tr>\n",
       "    <tr>\n",
       "      <th>3</th>\n",
       "      <td>American Samoa</td>\n",
       "      <td>2015 [YR2015]</td>\n",
       "      <td>..</td>\n",
       "    </tr>\n",
       "    <tr>\n",
       "      <th>4</th>\n",
       "      <td>Andorra</td>\n",
       "      <td>2015 [YR2015]</td>\n",
       "      <td>..</td>\n",
       "    </tr>\n",
       "  </tbody>\n",
       "</table>\n",
       "</div>"
      ],
      "text/plain": [
       "     Country Name           Year Literacy_rate\n",
       "0     Afghanistan  2015 [YR2015]            ..\n",
       "1         Albania  2015 [YR2015]            ..\n",
       "2         Algeria  2015 [YR2015]            ..\n",
       "3  American Samoa  2015 [YR2015]            ..\n",
       "4         Andorra  2015 [YR2015]            .."
      ]
     },
     "execution_count": 4,
     "metadata": {},
     "output_type": "execute_result"
    }
   ],
   "source": [
    "#Literacy Rate Data\n",
    "lit_df = pd.read_csv(\"/Users/alexandratorti/DS-3001/DS-3001/Final_Project/Literacy_rate_data.csv\")\n",
    "df_lit = pd.melt(lit_df, id_vars=['Country Name', 'Country Code', 'Series Name', \"Series Code\"], var_name='Year', value_name='Literacy_rate')\n",
    "columns_to_drop = ['Series Name', 'Series Code', 'Country Code']\n",
    "df_lit = df_lit.drop(columns=columns_to_drop)\n",
    "df_lit.head()"
   ]
  },
  {
   "cell_type": "code",
   "execution_count": 5,
   "metadata": {},
   "outputs": [
    {
     "data": {
      "text/html": [
       "<div>\n",
       "<style scoped>\n",
       "    .dataframe tbody tr th:only-of-type {\n",
       "        vertical-align: middle;\n",
       "    }\n",
       "\n",
       "    .dataframe tbody tr th {\n",
       "        vertical-align: top;\n",
       "    }\n",
       "\n",
       "    .dataframe thead th {\n",
       "        text-align: right;\n",
       "    }\n",
       "</style>\n",
       "<table border=\"1\" class=\"dataframe\">\n",
       "  <thead>\n",
       "    <tr style=\"text-align: right;\">\n",
       "      <th></th>\n",
       "      <th>Country Name</th>\n",
       "      <th>Year</th>\n",
       "      <th>population_density</th>\n",
       "    </tr>\n",
       "  </thead>\n",
       "  <tbody>\n",
       "    <tr>\n",
       "      <th>0</th>\n",
       "      <td>Afghanistan</td>\n",
       "      <td>2013 [YR2013]</td>\n",
       "      <td>48.3590282569032</td>\n",
       "    </tr>\n",
       "    <tr>\n",
       "      <th>1</th>\n",
       "      <td>Albania</td>\n",
       "      <td>2013 [YR2013]</td>\n",
       "      <td>105.660291970803</td>\n",
       "    </tr>\n",
       "    <tr>\n",
       "      <th>2</th>\n",
       "      <td>Algeria</td>\n",
       "      <td>2013 [YR2013]</td>\n",
       "      <td>15.9549850109584</td>\n",
       "    </tr>\n",
       "    <tr>\n",
       "      <th>3</th>\n",
       "      <td>American Samoa</td>\n",
       "      <td>2013 [YR2013]</td>\n",
       "      <td>264.975</td>\n",
       "    </tr>\n",
       "    <tr>\n",
       "      <th>4</th>\n",
       "      <td>Andorra</td>\n",
       "      <td>2013 [YR2013]</td>\n",
       "      <td>151.844680851064</td>\n",
       "    </tr>\n",
       "  </tbody>\n",
       "</table>\n",
       "</div>"
      ],
      "text/plain": [
       "     Country Name           Year population_density\n",
       "0     Afghanistan  2013 [YR2013]   48.3590282569032\n",
       "1         Albania  2013 [YR2013]   105.660291970803\n",
       "2         Algeria  2013 [YR2013]   15.9549850109584\n",
       "3  American Samoa  2013 [YR2013]            264.975\n",
       "4         Andorra  2013 [YR2013]   151.844680851064"
      ]
     },
     "execution_count": 5,
     "metadata": {},
     "output_type": "execute_result"
    }
   ],
   "source": [
    "#Population Data\n",
    "pop_df = pd.read_csv(\"/Users/alexandratorti/DS-3001/DS-3001/Final_Project/pop_data.csv\")\n",
    "df_pop = pd.melt(pop_df, id_vars=['Country Name', 'Country Code', 'Series Name', \"Series Code\"], var_name='Year', value_name='population_density')\n",
    "columns_to_drop = ['Series Name', 'Series Code', 'Country Code']\n",
    "df_pop = df_pop.drop(columns=columns_to_drop)\n",
    "df_pop.head()"
   ]
  },
  {
   "cell_type": "code",
   "execution_count": 6,
   "metadata": {},
   "outputs": [
    {
     "data": {
      "text/html": [
       "<div>\n",
       "<style scoped>\n",
       "    .dataframe tbody tr th:only-of-type {\n",
       "        vertical-align: middle;\n",
       "    }\n",
       "\n",
       "    .dataframe tbody tr th {\n",
       "        vertical-align: top;\n",
       "    }\n",
       "\n",
       "    .dataframe thead th {\n",
       "        text-align: right;\n",
       "    }\n",
       "</style>\n",
       "<table border=\"1\" class=\"dataframe\">\n",
       "  <thead>\n",
       "    <tr style=\"text-align: right;\">\n",
       "      <th></th>\n",
       "      <th>Country Name</th>\n",
       "      <th>Year</th>\n",
       "      <th>birth_rate</th>\n",
       "    </tr>\n",
       "  </thead>\n",
       "  <tbody>\n",
       "    <tr>\n",
       "      <th>0</th>\n",
       "      <td>Afghanistan</td>\n",
       "      <td>2015 [YR2015]</td>\n",
       "      <td>38.803</td>\n",
       "    </tr>\n",
       "    <tr>\n",
       "      <th>1</th>\n",
       "      <td>Albania</td>\n",
       "      <td>2015 [YR2015]</td>\n",
       "      <td>11.718</td>\n",
       "    </tr>\n",
       "    <tr>\n",
       "      <th>2</th>\n",
       "      <td>Algeria</td>\n",
       "      <td>2015 [YR2015]</td>\n",
       "      <td>25.405</td>\n",
       "    </tr>\n",
       "    <tr>\n",
       "      <th>3</th>\n",
       "      <td>American Samoa</td>\n",
       "      <td>2015 [YR2015]</td>\n",
       "      <td>..</td>\n",
       "    </tr>\n",
       "    <tr>\n",
       "      <th>4</th>\n",
       "      <td>Andorra</td>\n",
       "      <td>2015 [YR2015]</td>\n",
       "      <td>..</td>\n",
       "    </tr>\n",
       "  </tbody>\n",
       "</table>\n",
       "</div>"
      ],
      "text/plain": [
       "     Country Name           Year birth_rate\n",
       "0     Afghanistan  2015 [YR2015]     38.803\n",
       "1         Albania  2015 [YR2015]     11.718\n",
       "2         Algeria  2015 [YR2015]     25.405\n",
       "3  American Samoa  2015 [YR2015]         ..\n",
       "4         Andorra  2015 [YR2015]         .."
      ]
     },
     "execution_count": 6,
     "metadata": {},
     "output_type": "execute_result"
    }
   ],
   "source": [
    "#Birth Rate Data\n",
    "birth_df = pd.read_csv(\"/Users/alexandratorti/DS-3001/DS-3001/Final_Project/birthratedata.csv\")\n",
    "df_birth = pd.melt(birth_df, id_vars=['Country Name', 'Country Code', 'Series Name', \"Series Code\"], var_name='Year', value_name='birth_rate')\n",
    "df_birth = df_birth.drop(columns=columns_to_drop)\n",
    "df_birth.head()"
   ]
  },
  {
   "cell_type": "code",
   "execution_count": 7,
   "metadata": {},
   "outputs": [
    {
     "data": {
      "text/html": [
       "<div>\n",
       "<style scoped>\n",
       "    .dataframe tbody tr th:only-of-type {\n",
       "        vertical-align: middle;\n",
       "    }\n",
       "\n",
       "    .dataframe tbody tr th {\n",
       "        vertical-align: top;\n",
       "    }\n",
       "\n",
       "    .dataframe thead th {\n",
       "        text-align: right;\n",
       "    }\n",
       "</style>\n",
       "<table border=\"1\" class=\"dataframe\">\n",
       "  <thead>\n",
       "    <tr style=\"text-align: right;\">\n",
       "      <th></th>\n",
       "      <th>Country Name</th>\n",
       "      <th>Year</th>\n",
       "      <th>unemployment_rate</th>\n",
       "    </tr>\n",
       "  </thead>\n",
       "  <tbody>\n",
       "    <tr>\n",
       "      <th>0</th>\n",
       "      <td>Afghanistan</td>\n",
       "      <td>2015 [YR2015]</td>\n",
       "      <td>..</td>\n",
       "    </tr>\n",
       "    <tr>\n",
       "      <th>1</th>\n",
       "      <td>Albania</td>\n",
       "      <td>2015 [YR2015]</td>\n",
       "      <td>17.19</td>\n",
       "    </tr>\n",
       "    <tr>\n",
       "      <th>2</th>\n",
       "      <td>Algeria</td>\n",
       "      <td>2015 [YR2015]</td>\n",
       "      <td>11.21</td>\n",
       "    </tr>\n",
       "    <tr>\n",
       "      <th>3</th>\n",
       "      <td>American Samoa</td>\n",
       "      <td>2015 [YR2015]</td>\n",
       "      <td>..</td>\n",
       "    </tr>\n",
       "    <tr>\n",
       "      <th>4</th>\n",
       "      <td>Andorra</td>\n",
       "      <td>2015 [YR2015]</td>\n",
       "      <td>..</td>\n",
       "    </tr>\n",
       "  </tbody>\n",
       "</table>\n",
       "</div>"
      ],
      "text/plain": [
       "     Country Name           Year unemployment_rate\n",
       "0     Afghanistan  2015 [YR2015]                ..\n",
       "1         Albania  2015 [YR2015]             17.19\n",
       "2         Algeria  2015 [YR2015]             11.21\n",
       "3  American Samoa  2015 [YR2015]                ..\n",
       "4         Andorra  2015 [YR2015]                .."
      ]
     },
     "execution_count": 7,
     "metadata": {},
     "output_type": "execute_result"
    }
   ],
   "source": [
    "#Unemployment Rate Data\n",
    "unem_df = pd.read_csv(\"/Users/alexandratorti/DS-3001/DS-3001/Final_Project/unemploymentdata.csv\")\n",
    "df_unem = pd.melt(unem_df, id_vars=['Country Name', 'Country Code', 'Series Name', \"Series Code\"], var_name='Year', value_name='unemployment_rate')\n",
    "df_unem = df_unem.drop(columns=columns_to_drop)\n",
    "df_unem.head()"
   ]
  },
  {
   "cell_type": "code",
   "execution_count": 8,
   "metadata": {},
   "outputs": [
    {
     "data": {
      "text/html": [
       "<div>\n",
       "<style scoped>\n",
       "    .dataframe tbody tr th:only-of-type {\n",
       "        vertical-align: middle;\n",
       "    }\n",
       "\n",
       "    .dataframe tbody tr th {\n",
       "        vertical-align: top;\n",
       "    }\n",
       "\n",
       "    .dataframe thead th {\n",
       "        text-align: right;\n",
       "    }\n",
       "</style>\n",
       "<table border=\"1\" class=\"dataframe\">\n",
       "  <thead>\n",
       "    <tr style=\"text-align: right;\">\n",
       "      <th></th>\n",
       "      <th>Country Name</th>\n",
       "      <th>Year</th>\n",
       "      <th>GDP</th>\n",
       "    </tr>\n",
       "  </thead>\n",
       "  <tbody>\n",
       "    <tr>\n",
       "      <th>0</th>\n",
       "      <td>Afghanistan</td>\n",
       "      <td>2015 [YR2015]</td>\n",
       "      <td>592.476164793256</td>\n",
       "    </tr>\n",
       "    <tr>\n",
       "      <th>1</th>\n",
       "      <td>Albania</td>\n",
       "      <td>2015 [YR2015]</td>\n",
       "      <td>3952.80358410846</td>\n",
       "    </tr>\n",
       "    <tr>\n",
       "      <th>2</th>\n",
       "      <td>Algeria</td>\n",
       "      <td>2015 [YR2015]</td>\n",
       "      <td>4197.41997101868</td>\n",
       "    </tr>\n",
       "    <tr>\n",
       "      <th>3</th>\n",
       "      <td>American Samoa</td>\n",
       "      <td>2015 [YR2015]</td>\n",
       "      <td>13101.5418159165</td>\n",
       "    </tr>\n",
       "    <tr>\n",
       "      <th>4</th>\n",
       "      <td>Andorra</td>\n",
       "      <td>2015 [YR2015]</td>\n",
       "      <td>38885.5303237179</td>\n",
       "    </tr>\n",
       "  </tbody>\n",
       "</table>\n",
       "</div>"
      ],
      "text/plain": [
       "     Country Name           Year               GDP\n",
       "0     Afghanistan  2015 [YR2015]  592.476164793256\n",
       "1         Albania  2015 [YR2015]  3952.80358410846\n",
       "2         Algeria  2015 [YR2015]  4197.41997101868\n",
       "3  American Samoa  2015 [YR2015]  13101.5418159165\n",
       "4         Andorra  2015 [YR2015]  38885.5303237179"
      ]
     },
     "execution_count": 8,
     "metadata": {},
     "output_type": "execute_result"
    }
   ],
   "source": [
    "#GDP Data\n",
    "gdp_df = pd.read_csv(\"/Users/alexandratorti/DS-3001/DS-3001/Final_Project/gdpdata.csv\")\n",
    "df_gdp = pd.melt(gdp_df, id_vars=['Country Name', 'Country Code', 'Series Name', \"Series Code\"], var_name='Year', value_name='GDP')\n",
    "df_gdp = df_gdp.drop(columns=columns_to_drop)\n",
    "df_gdp.head()"
   ]
  },
  {
   "cell_type": "code",
   "execution_count": 9,
   "metadata": {},
   "outputs": [
    {
     "data": {
      "text/html": [
       "<div>\n",
       "<style scoped>\n",
       "    .dataframe tbody tr th:only-of-type {\n",
       "        vertical-align: middle;\n",
       "    }\n",
       "\n",
       "    .dataframe tbody tr th {\n",
       "        vertical-align: top;\n",
       "    }\n",
       "\n",
       "    .dataframe thead th {\n",
       "        text-align: right;\n",
       "    }\n",
       "</style>\n",
       "<table border=\"1\" class=\"dataframe\">\n",
       "  <thead>\n",
       "    <tr style=\"text-align: right;\">\n",
       "      <th></th>\n",
       "      <th>Country Name</th>\n",
       "      <th>Year</th>\n",
       "      <th>Death_rate</th>\n",
       "    </tr>\n",
       "  </thead>\n",
       "  <tbody>\n",
       "    <tr>\n",
       "      <th>0</th>\n",
       "      <td>Afghanistan</td>\n",
       "      <td>2015 [YR2015]</td>\n",
       "      <td>7.331</td>\n",
       "    </tr>\n",
       "    <tr>\n",
       "      <th>1</th>\n",
       "      <td>Albania</td>\n",
       "      <td>2015 [YR2015]</td>\n",
       "      <td>7.947</td>\n",
       "    </tr>\n",
       "    <tr>\n",
       "      <th>2</th>\n",
       "      <td>Algeria</td>\n",
       "      <td>2015 [YR2015]</td>\n",
       "      <td>4.437</td>\n",
       "    </tr>\n",
       "    <tr>\n",
       "      <th>3</th>\n",
       "      <td>American Samoa</td>\n",
       "      <td>2015 [YR2015]</td>\n",
       "      <td>..</td>\n",
       "    </tr>\n",
       "    <tr>\n",
       "      <th>4</th>\n",
       "      <td>Andorra</td>\n",
       "      <td>2015 [YR2015]</td>\n",
       "      <td>..</td>\n",
       "    </tr>\n",
       "  </tbody>\n",
       "</table>\n",
       "</div>"
      ],
      "text/plain": [
       "     Country Name           Year Death_rate\n",
       "0     Afghanistan  2015 [YR2015]      7.331\n",
       "1         Albania  2015 [YR2015]      7.947\n",
       "2         Algeria  2015 [YR2015]      4.437\n",
       "3  American Samoa  2015 [YR2015]         ..\n",
       "4         Andorra  2015 [YR2015]         .."
      ]
     },
     "execution_count": 9,
     "metadata": {},
     "output_type": "execute_result"
    }
   ],
   "source": [
    "#Death Rate Data\n",
    "death_df = pd.read_csv(\"/Users/alexandratorti/DS-3001/DS-3001/Final_Project/deathdata.csv\")\n",
    "df_death = pd.melt(death_df, id_vars=['Country Name', 'Country Code', 'Series Name', \"Series Code\"], var_name='Year', value_name='Death_rate')\n",
    "df_death = df_death.drop(columns=columns_to_drop)\n",
    "df_death.head()"
   ]
  },
  {
   "cell_type": "code",
   "execution_count": 10,
   "metadata": {},
   "outputs": [
    {
     "data": {
      "text/html": [
       "<div>\n",
       "<style scoped>\n",
       "    .dataframe tbody tr th:only-of-type {\n",
       "        vertical-align: middle;\n",
       "    }\n",
       "\n",
       "    .dataframe tbody tr th {\n",
       "        vertical-align: top;\n",
       "    }\n",
       "\n",
       "    .dataframe thead th {\n",
       "        text-align: right;\n",
       "    }\n",
       "</style>\n",
       "<table border=\"1\" class=\"dataframe\">\n",
       "  <thead>\n",
       "    <tr style=\"text-align: right;\">\n",
       "      <th></th>\n",
       "      <th>Country Name</th>\n",
       "      <th>Year</th>\n",
       "      <th>LF_rate</th>\n",
       "    </tr>\n",
       "  </thead>\n",
       "  <tbody>\n",
       "    <tr>\n",
       "      <th>0</th>\n",
       "      <td>Afghanistan</td>\n",
       "      <td>2015 [YR2015]</td>\n",
       "      <td>..</td>\n",
       "    </tr>\n",
       "    <tr>\n",
       "      <th>1</th>\n",
       "      <td>Albania</td>\n",
       "      <td>2015 [YR2015]</td>\n",
       "      <td>31.3</td>\n",
       "    </tr>\n",
       "    <tr>\n",
       "      <th>2</th>\n",
       "      <td>Algeria</td>\n",
       "      <td>2015 [YR2015]</td>\n",
       "      <td>25.19</td>\n",
       "    </tr>\n",
       "    <tr>\n",
       "      <th>3</th>\n",
       "      <td>American Samoa</td>\n",
       "      <td>2015 [YR2015]</td>\n",
       "      <td>..</td>\n",
       "    </tr>\n",
       "    <tr>\n",
       "      <th>4</th>\n",
       "      <td>Andorra</td>\n",
       "      <td>2015 [YR2015]</td>\n",
       "      <td>..</td>\n",
       "    </tr>\n",
       "  </tbody>\n",
       "</table>\n",
       "</div>"
      ],
      "text/plain": [
       "     Country Name           Year LF_rate\n",
       "0     Afghanistan  2015 [YR2015]      ..\n",
       "1         Albania  2015 [YR2015]    31.3\n",
       "2         Algeria  2015 [YR2015]   25.19\n",
       "3  American Samoa  2015 [YR2015]      ..\n",
       "4         Andorra  2015 [YR2015]      .."
      ]
     },
     "execution_count": 10,
     "metadata": {},
     "output_type": "execute_result"
    }
   ],
   "source": [
    "#Labor Force Participation Data\n",
    "labor_df = pd.read_csv(\"/Users/alexandratorti/DS-3001/DS-3001/Final_Project/laborparticipation.csv\")\n",
    "df_labor = pd.melt(labor_df, id_vars=['Country Name', 'Country Code', 'Series Name', \"Series Code\"], var_name='Year', value_name='LF_rate')\n",
    "df_labor = df_labor.drop(columns=columns_to_drop)\n",
    "df_labor.head()"
   ]
  },
  {
   "cell_type": "code",
   "execution_count": 11,
   "metadata": {},
   "outputs": [
    {
     "data": {
      "text/html": [
       "<div>\n",
       "<style scoped>\n",
       "    .dataframe tbody tr th:only-of-type {\n",
       "        vertical-align: middle;\n",
       "    }\n",
       "\n",
       "    .dataframe tbody tr th {\n",
       "        vertical-align: top;\n",
       "    }\n",
       "\n",
       "    .dataframe thead th {\n",
       "        text-align: right;\n",
       "    }\n",
       "</style>\n",
       "<table border=\"1\" class=\"dataframe\">\n",
       "  <thead>\n",
       "    <tr style=\"text-align: right;\">\n",
       "      <th></th>\n",
       "      <th>Country Name</th>\n",
       "      <th>Year</th>\n",
       "      <th>Literacy_rate</th>\n",
       "      <th>birth_rate</th>\n",
       "      <th>unemployment_rate</th>\n",
       "      <th>GDP</th>\n",
       "      <th>Death_rate</th>\n",
       "      <th>LF_rate</th>\n",
       "      <th>Alcohol Consumption</th>\n",
       "      <th>population_density</th>\n",
       "    </tr>\n",
       "  </thead>\n",
       "  <tbody>\n",
       "    <tr>\n",
       "      <th>0</th>\n",
       "      <td>Afghanistan</td>\n",
       "      <td>2015 [YR2015]</td>\n",
       "      <td>..</td>\n",
       "      <td>38.803</td>\n",
       "      <td>..</td>\n",
       "      <td>592.476164793256</td>\n",
       "      <td>7.331</td>\n",
       "      <td>..</td>\n",
       "      <td>0.00874</td>\n",
       "      <td>51.7509145546816</td>\n",
       "    </tr>\n",
       "    <tr>\n",
       "      <th>1</th>\n",
       "      <td>Albania</td>\n",
       "      <td>2015 [YR2015]</td>\n",
       "      <td>..</td>\n",
       "      <td>11.718</td>\n",
       "      <td>17.19</td>\n",
       "      <td>3952.80358410846</td>\n",
       "      <td>7.947</td>\n",
       "      <td>31.3</td>\n",
       "      <td>5.03752</td>\n",
       "      <td>105.135145985401</td>\n",
       "    </tr>\n",
       "    <tr>\n",
       "      <th>2</th>\n",
       "      <td>Algeria</td>\n",
       "      <td>2015 [YR2015]</td>\n",
       "      <td>..</td>\n",
       "      <td>25.405</td>\n",
       "      <td>11.21</td>\n",
       "      <td>4197.41997101868</td>\n",
       "      <td>4.437</td>\n",
       "      <td>25.19</td>\n",
       "      <td>0.5844</td>\n",
       "      <td>16.6026255583626</td>\n",
       "    </tr>\n",
       "    <tr>\n",
       "      <th>3</th>\n",
       "      <td>American Samoa</td>\n",
       "      <td>2015 [YR2015]</td>\n",
       "      <td>..</td>\n",
       "      <td>..</td>\n",
       "      <td>..</td>\n",
       "      <td>13101.5418159165</td>\n",
       "      <td>..</td>\n",
       "      <td>..</td>\n",
       "      <td>..</td>\n",
       "      <td>256.84</td>\n",
       "    </tr>\n",
       "    <tr>\n",
       "      <th>4</th>\n",
       "      <td>Andorra</td>\n",
       "      <td>2015 [YR2015]</td>\n",
       "      <td>..</td>\n",
       "      <td>..</td>\n",
       "      <td>..</td>\n",
       "      <td>38885.5303237179</td>\n",
       "      <td>..</td>\n",
       "      <td>..</td>\n",
       "      <td>10.76055</td>\n",
       "      <td>152.651063829787</td>\n",
       "    </tr>\n",
       "  </tbody>\n",
       "</table>\n",
       "</div>"
      ],
      "text/plain": [
       "     Country Name           Year Literacy_rate birth_rate unemployment_rate  \\\n",
       "0     Afghanistan  2015 [YR2015]            ..     38.803                ..   \n",
       "1         Albania  2015 [YR2015]            ..     11.718             17.19   \n",
       "2         Algeria  2015 [YR2015]            ..     25.405             11.21   \n",
       "3  American Samoa  2015 [YR2015]            ..         ..                ..   \n",
       "4         Andorra  2015 [YR2015]            ..         ..                ..   \n",
       "\n",
       "                GDP Death_rate LF_rate Alcohol Consumption population_density  \n",
       "0  592.476164793256      7.331      ..             0.00874   51.7509145546816  \n",
       "1  3952.80358410846      7.947    31.3             5.03752   105.135145985401  \n",
       "2  4197.41997101868      4.437   25.19              0.5844   16.6026255583626  \n",
       "3  13101.5418159165         ..      ..                  ..             256.84  \n",
       "4  38885.5303237179         ..      ..            10.76055   152.651063829787  "
      ]
     },
     "execution_count": 11,
     "metadata": {},
     "output_type": "execute_result"
    }
   ],
   "source": [
    "#now its time to merge all out dataframes. \n",
    "# Merge DataFrames\n",
    "merged_df = pd.merge(df_lit, df_birth, on=['Country Name', 'Year'])\n",
    "merged_df = pd.merge(merged_df, df_unem, on=['Country Name', 'Year'])\n",
    "merged_df = pd.merge(merged_df, df_gdp, on=['Country Name', 'Year'])\n",
    "merged_df = pd.merge(merged_df, df_death, on=['Country Name', 'Year'])\n",
    "merged_df = pd.merge(merged_df, df_labor, on=['Country Name', 'Year'])\n",
    "merged_df = pd.merge(merged_df, df_alc, on=['Country Name', 'Year'])\n",
    "merged_df = pd.merge(merged_df, df_pop, on=['Country Name', 'Year'])\n",
    "merged_df.head()"
   ]
  },
  {
   "cell_type": "markdown",
   "metadata": {},
   "source": [
    "## Drop variables that will not be needed or are duplicates"
   ]
  },
  {
   "cell_type": "code",
   "execution_count": 12,
   "metadata": {},
   "outputs": [
    {
     "name": "stdout",
     "output_type": "stream",
     "text": [
      "Country Name           0\n",
      "Year                   0\n",
      "Literacy_rate          0\n",
      "birth_rate             0\n",
      "unemployment_rate      0\n",
      "GDP                    0\n",
      "Death_rate             0\n",
      "LF_rate                0\n",
      "Alcohol Consumption    0\n",
      "population_density     0\n",
      "dtype: int64\n",
      "Rows with NaN values:\n",
      "Empty DataFrame\n",
      "Columns: [Country Name, Year, Literacy_rate, birth_rate, unemployment_rate, GDP, Death_rate, LF_rate, Alcohol Consumption, population_density]\n",
      "Index: []\n"
     ]
    }
   ],
   "source": [
    "#lets take a look at our data and see what needs cleaning!\n",
    "merged_df.head()\n",
    "\n",
    "na_counts = merged_df.isna().sum()\n",
    "print(na_counts)\n",
    "# Check for NaN values in each row\n",
    "rows_with_na = merged_df.isna().any(axis=1)\n",
    "\n",
    "# Display rows with NaN values\n",
    "print(\"Rows with NaN values:\")\n",
    "print(merged_df[rows_with_na])# there seems to be some errors when I merged the data frames that added a bunch of NaN values. Lets delete these extra rows because we will not need them"
   ]
  },
  {
   "cell_type": "code",
   "execution_count": 13,
   "metadata": {},
   "outputs": [
    {
     "name": "stdout",
     "output_type": "stream",
     "text": [
      "Country Name           0\n",
      "Year                   0\n",
      "Literacy_rate          0\n",
      "birth_rate             0\n",
      "unemployment_rate      0\n",
      "GDP                    0\n",
      "Death_rate             0\n",
      "LF_rate                0\n",
      "Alcohol Consumption    0\n",
      "population_density     0\n",
      "dtype: int64\n"
     ]
    }
   ],
   "source": [
    "\n",
    "# Drop rows with NaN values in column Country\n",
    "df_cleaned = merged_df.dropna(subset=['Country Name'], how='any')\n",
    "\n",
    "#DataFrame after dropping rows with NaN values in column Country Name\n",
    "# print(df_cleaned)\n",
    "\n",
    "na_counts = df_cleaned.isna().sum()\n",
    "print(na_counts)\n"
   ]
  },
  {
   "cell_type": "code",
   "execution_count": 14,
   "metadata": {},
   "outputs": [
    {
     "name": "stdout",
     "output_type": "stream",
     "text": [
      "<class 'pandas.core.frame.DataFrame'>\n",
      "RangeIndex: 432 entries, 0 to 431\n",
      "Data columns (total 10 columns):\n",
      " #   Column               Non-Null Count  Dtype \n",
      "---  ------               --------------  ----- \n",
      " 0   Country Name         432 non-null    object\n",
      " 1   Year                 432 non-null    object\n",
      " 2   Literacy_rate        65 non-null     object\n",
      " 3   birth_rate           427 non-null    object\n",
      " 4   unemployment_rate    247 non-null    object\n",
      " 5   GDP                  418 non-null    object\n",
      " 6   Death_rate           427 non-null    object\n",
      " 7   LF_rate              228 non-null    object\n",
      " 8   Alcohol Consumption  372 non-null    object\n",
      " 9   population_density   430 non-null    object\n",
      "dtypes: object(10)\n",
      "memory usage: 33.9+ KB\n",
      "<class 'pandas.core.frame.DataFrame'>\n",
      "RangeIndex: 432 entries, 0 to 431\n",
      "Data columns (total 10 columns):\n",
      " #   Column               Non-Null Count  Dtype  \n",
      "---  ------               --------------  -----  \n",
      " 0   Country Name         432 non-null    object \n",
      " 1   Year                 432 non-null    object \n",
      " 2   Literacy_rate        65 non-null     float64\n",
      " 3   birth_rate           427 non-null    float64\n",
      " 4   unemployment_rate    247 non-null    float64\n",
      " 5   GDP                  418 non-null    float64\n",
      " 6   Death_rate           427 non-null    float64\n",
      " 7   LF_rate              228 non-null    float64\n",
      " 8   Alcohol Consumption  372 non-null    float64\n",
      " 9   population_density   430 non-null    float64\n",
      "dtypes: float64(8), object(2)\n",
      "memory usage: 33.9+ KB\n"
     ]
    }
   ],
   "source": [
    "#Need to drop .. values so that we can transform values to floats\n",
    "df_cleaned.replace('..', np.nan, inplace=True)\n",
    "df_cleaned.info()\n",
    "\n",
    "\n",
    "#We need to change the columns that are objects to strings and floats\n",
    "columns_to_convert = ['population_density', 'Literacy_rate', 'birth_rate', \"unemployment_rate\", \"GDP\", \"Death_rate\", \"LF_rate\", \"Alcohol Consumption\"]\n",
    "df_cleaned[columns_to_convert] = df_cleaned[columns_to_convert].astype(float)\n",
    "\n",
    "\n",
    "columns_to_convert2 = ['Country Name', 'Year']\n",
    "df_cleaned[columns_to_convert2] = df_cleaned[columns_to_convert2].astype(str)\n",
    "\n",
    "df_cleaned.info()"
   ]
  },
  {
   "cell_type": "code",
   "execution_count": 15,
   "metadata": {},
   "outputs": [
    {
     "name": "stdout",
     "output_type": "stream",
     "text": [
      "              Country Name           Year  Literacy_rate  birth_rate  \\\n",
      "216            Afghanistan  2019 [YR2019]            NaN      36.466   \n",
      "217                Albania  2019 [YR2019]            NaN      10.343   \n",
      "218                Algeria  2019 [YR2019]            NaN      23.298   \n",
      "219         American Samoa  2019 [YR2019]            NaN         NaN   \n",
      "220                Andorra  2019 [YR2019]            NaN       7.000   \n",
      "..                     ...            ...            ...         ...   \n",
      "427  Virgin Islands (U.S.)  2019 [YR2019]            NaN      12.300   \n",
      "428     West Bank and Gaza  2019 [YR2019]      97.378258      29.466   \n",
      "429            Yemen, Rep.  2019 [YR2019]            NaN      31.778   \n",
      "430                 Zambia  2019 [YR2019]            NaN      35.462   \n",
      "431               Zimbabwe  2019 [YR2019]            NaN      31.518   \n",
      "\n",
      "     unemployment_rate           GDP  Death_rate  LF_rate  \\\n",
      "216                NaN    500.522981       6.791      NaN   \n",
      "217              11.47   5396.214227       8.480    36.59   \n",
      "218                NaN   4021.983608       4.392      NaN   \n",
      "219                NaN  13672.576657         NaN      NaN   \n",
      "220                NaN  41328.600499       3.900      NaN   \n",
      "..                 ...           ...         ...      ...   \n",
      "427                NaN  38596.030712       8.200      NaN   \n",
      "428              25.34   3656.858271       3.225    30.27   \n",
      "429                NaN    693.816484       6.416      NaN   \n",
      "430               5.54   1268.120941       6.571    36.66   \n",
      "431               7.37   1421.868596       8.043    50.07   \n",
      "\n",
      "     Alcohol Consumption  population_density  \n",
      "216              0.01618           57.908252  \n",
      "217              5.10935          104.167555  \n",
      "218              0.61271           17.930316  \n",
      "219                  NaN          236.605000  \n",
      "220             11.05154          162.431915  \n",
      "..                   ...                 ...  \n",
      "427                  NaN          304.768571  \n",
      "428                  NaN          778.290033  \n",
      "429              0.02778           59.750916  \n",
      "430              3.85176           24.725214  \n",
      "431              3.62809           39.691374  \n",
      "\n",
      "[216 rows x 10 columns]\n",
      "<class 'pandas.core.frame.DataFrame'>\n",
      "Index: 216 entries, 216 to 431\n",
      "Data columns (total 10 columns):\n",
      " #   Column               Non-Null Count  Dtype  \n",
      "---  ------               --------------  -----  \n",
      " 0   Country Name         216 non-null    object \n",
      " 1   Year                 216 non-null    object \n",
      " 2   Literacy_rate        26 non-null     float64\n",
      " 3   birth_rate           214 non-null    float64\n",
      " 4   unemployment_rate    126 non-null    float64\n",
      " 5   GDP                  209 non-null    float64\n",
      " 6   Death_rate           214 non-null    float64\n",
      " 7   LF_rate              121 non-null    float64\n",
      " 8   Alcohol Consumption  186 non-null    float64\n",
      " 9   population_density   215 non-null    float64\n",
      "dtypes: float64(8), object(2)\n",
      "memory usage: 18.6+ KB\n"
     ]
    }
   ],
   "source": [
    "#For the first time we cluster, lets use 2019 data.\n",
    "df = pd.DataFrame(df_cleaned)\n",
    "\n",
    "# Specify the year you want to keep\n",
    "target_year = '2019 [YR2019]'\n",
    "\n",
    "# Use boolean indexing to filter the DataFrame\n",
    "df_filtered = df[df['Year'] == target_year]\n",
    "\n",
    "# Display the result\n",
    "print(df_filtered)\n",
    "df_filtered.info()\n"
   ]
  },
  {
   "cell_type": "code",
   "execution_count": null,
   "metadata": {},
   "outputs": [],
   "source": [
    "\n"
   ]
  },
  {
   "cell_type": "code",
   "execution_count": 16,
   "metadata": {},
   "outputs": [
    {
     "name": "stdout",
     "output_type": "stream",
     "text": [
      "Index(['Literacy_rate', 'birth_rate', 'unemployment_rate', 'GDP', 'Death_rate',\n",
      "       'LF_rate', 'Alcohol Consumption', 'population_density'],\n",
      "      dtype='object')\n"
     ]
    },
    {
     "name": "stderr",
     "output_type": "stream",
     "text": [
      "/var/folders/55/4w5l1r5x0618j7pxmq4kdgmr0000gn/T/ipykernel_64883/2499516412.py:4: SettingWithCopyWarning: \n",
      "A value is trying to be set on a copy of a slice from a DataFrame.\n",
      "Try using .loc[row_indexer,col_indexer] = value instead\n",
      "\n",
      "See the caveats in the documentation: https://pandas.pydata.org/pandas-docs/stable/user_guide/indexing.html#returning-a-view-versus-a-copy\n",
      "  df_filtered[numeric_columns]= MinMaxScaler().fit_transform(df_filtered[numeric_columns])\n"
     ]
    }
   ],
   "source": [
    "#Now lets normalize the data!\n",
    "numeric_columns = df_filtered.select_dtypes(\"float\", \"int\").columns\n",
    "print(numeric_columns)\n",
    "df_filtered[numeric_columns]= MinMaxScaler().fit_transform(df_filtered[numeric_columns])\n"
   ]
  },
  {
   "cell_type": "code",
   "execution_count": 17,
   "metadata": {},
   "outputs": [
    {
     "name": "stdout",
     "output_type": "stream",
     "text": [
      "Country Name             0\n",
      "Year                     0\n",
      "Literacy_rate          190\n",
      "birth_rate               2\n",
      "unemployment_rate       90\n",
      "GDP                      7\n",
      "Death_rate               2\n",
      "LF_rate                 95\n",
      "Alcohol Consumption     30\n",
      "population_density       1\n",
      "dtype: int64\n",
      "<class 'pandas.core.frame.DataFrame'>\n",
      "Index: 216 entries, 216 to 431\n",
      "Data columns (total 10 columns):\n",
      " #   Column               Non-Null Count  Dtype  \n",
      "---  ------               --------------  -----  \n",
      " 0   Country Name         216 non-null    object \n",
      " 1   Year                 216 non-null    object \n",
      " 2   Literacy_rate        26 non-null     float64\n",
      " 3   birth_rate           214 non-null    float64\n",
      " 4   unemployment_rate    126 non-null    float64\n",
      " 5   GDP                  209 non-null    float64\n",
      " 6   Death_rate           214 non-null    float64\n",
      " 7   LF_rate              121 non-null    float64\n",
      " 8   Alcohol Consumption  186 non-null    float64\n",
      " 9   population_density   215 non-null    float64\n",
      "dtypes: float64(8), object(2)\n",
      "memory usage: 18.6+ KB\n",
      "<class 'pandas.core.frame.DataFrame'>\n",
      "Index: 20 entries, 233 to 423\n",
      "Data columns (total 10 columns):\n",
      " #   Column               Non-Null Count  Dtype  \n",
      "---  ------               --------------  -----  \n",
      " 0   Country Name         20 non-null     object \n",
      " 1   Year                 20 non-null     object \n",
      " 2   Literacy_rate        20 non-null     float64\n",
      " 3   birth_rate           20 non-null     float64\n",
      " 4   unemployment_rate    20 non-null     float64\n",
      " 5   GDP                  20 non-null     float64\n",
      " 6   Death_rate           20 non-null     float64\n",
      " 7   LF_rate              20 non-null     float64\n",
      " 8   Alcohol Consumption  20 non-null     float64\n",
      " 9   population_density   20 non-null     float64\n",
      "dtypes: float64(8), object(2)\n",
      "memory usage: 1.7+ KB\n"
     ]
    }
   ],
   "source": [
    "#Lets do a final Check on NaN values. \n",
    "na_counts = df_filtered.isna().sum()\n",
    "print(na_counts)\n",
    "df_filtered.info()\n",
    "#Why dropping all NaN values shrinks our dataset a lot, it won't harm the integrity of the data. \n",
    "#we will drop the NaN values here. \n",
    "df_2019 = df_filtered.dropna()\n",
    "df_2019.info()"
   ]
  },
  {
   "cell_type": "code",
   "execution_count": 18,
   "metadata": {},
   "outputs": [
    {
     "name": "stdout",
     "output_type": "stream",
     "text": [
      "0.00    0.006090\n",
      "0.33    0.165473\n",
      "0.66    0.325642\n",
      "1.00    0.641630\n",
      "Name: Alcohol Consumption, dtype: float64\n"
     ]
    },
    {
     "name": "stderr",
     "output_type": "stream",
     "text": [
      "/var/folders/55/4w5l1r5x0618j7pxmq4kdgmr0000gn/T/ipykernel_64883/3042536659.py:11: SettingWithCopyWarning: \n",
      "A value is trying to be set on a copy of a slice from a DataFrame.\n",
      "Try using .loc[row_indexer,col_indexer] = value instead\n",
      "\n",
      "See the caveats in the documentation: https://pandas.pydata.org/pandas-docs/stable/user_guide/indexing.html#returning-a-view-versus-a-copy\n",
      "  df_2019[\"Alcohol Consumption Category\"] = pd.cut(df_2019['Alcohol Consumption'], percentile_values, labels=labels)\n"
     ]
    }
   ],
   "source": [
    "#The last step is to creat bins for out terget varibale\n",
    "#will will determine low, high and medium consumption based off of how each country ranks compared to others. \n",
    "# Calculate percentiles\n",
    "percentiles = [0, 0.33, 0.66, 1.0]\n",
    "percentile_values = df_2019['Alcohol Consumption'].quantile(percentiles)\n",
    "print(percentile_values)\n",
    "\n",
    "labels = ['Low', 'Medium', 'High']\n",
    "\n",
    "# Create the categorical variable\n",
    "df_2019[\"Alcohol Consumption Category\"] = pd.cut(df_2019['Alcohol Consumption'], percentile_values, labels=labels)\n",
    "\n"
   ]
  },
  {
   "cell_type": "markdown",
   "metadata": {},
   "source": [
    "## Run the clustering algo with your best guess for - this Alex"
   ]
  },
  {
   "cell_type": "code",
   "execution_count": 19,
   "metadata": {},
   "outputs": [
    {
     "name": "stderr",
     "output_type": "stream",
     "text": [
      "/Users/alexandratorti/Library/Python/3.9/lib/python/site-packages/sklearn/cluster/_kmeans.py:1412: FutureWarning: The default value of `n_init` will change from 10 to 'auto' in 1.4. Set the value of `n_init` explicitly to suppress the warning\n",
      "  super()._check_params_vs_input(X, default_n_init=10)\n"
     ]
    }
   ],
   "source": [
    "#Run the clustering algo with your best guess for K\n",
    "clust_data = df_2019[['Literacy_rate', 'birth_rate', \"unemployment_rate\", \"GDP\", \"Death_rate\", \"LF_rate\"]]\n",
    "kmeans_obj = KMeans(n_clusters=3, random_state=1).fit(clust_data)"
   ]
  },
  {
   "cell_type": "markdown",
   "metadata": {},
   "source": [
    "## View the results - This is Alex\n"
   ]
  },
  {
   "cell_type": "code",
   "execution_count": 20,
   "metadata": {},
   "outputs": [
    {
     "name": "stdout",
     "output_type": "stream",
     "text": [
      "[[0.8808044  0.33014173 0.21147799 0.05878889 0.33021803 0.45132875]\n",
      " [0.99102953 0.08021973 0.32262186 0.08179014 0.75975257 0.33631571]\n",
      " [0.92924068 0.38479441 1.         0.03249454 0.52539803 0.2200032 ]]\n",
      "[1 0 0 0 0 1 0 0 0 0 0 0 0 1 0 2 0 0 0 1]\n",
      "1.7366804653853058\n"
     ]
    }
   ],
   "source": [
    "#View the results\n",
    "print(kmeans_obj.cluster_centers_)\n",
    "print(kmeans_obj.labels_) #clusters for vector assignments\n",
    "print(kmeans_obj.inertia_) #distance from centroids, smaller is better"
   ]
  },
  {
   "cell_type": "code",
   "execution_count": null,
   "metadata": {},
   "outputs": [],
   "source": []
  },
  {
   "cell_type": "markdown",
   "metadata": {},
   "source": [
    "## Create a visualization of the results with 2 or 3 variables that you think will best differentiate the clusters- This is Alex"
   ]
  },
  {
   "cell_type": "code",
   "execution_count": 21,
   "metadata": {},
   "outputs": [
    {
     "data": {
      "text/html": [
       "<div>\n",
       "<style scoped>\n",
       "    .dataframe tbody tr th:only-of-type {\n",
       "        vertical-align: middle;\n",
       "    }\n",
       "\n",
       "    .dataframe tbody tr th {\n",
       "        vertical-align: top;\n",
       "    }\n",
       "\n",
       "    .dataframe thead th {\n",
       "        text-align: right;\n",
       "    }\n",
       "</style>\n",
       "<table border=\"1\" class=\"dataframe\">\n",
       "  <thead>\n",
       "    <tr style=\"text-align: right;\">\n",
       "      <th></th>\n",
       "      <th>Country Name</th>\n",
       "      <th>Year</th>\n",
       "      <th>Literacy_rate</th>\n",
       "      <th>birth_rate</th>\n",
       "      <th>unemployment_rate</th>\n",
       "      <th>GDP</th>\n",
       "      <th>Death_rate</th>\n",
       "      <th>LF_rate</th>\n",
       "      <th>Alcohol Consumption</th>\n",
       "      <th>population_density</th>\n",
       "      <th>Alcohol Consumption Category</th>\n",
       "    </tr>\n",
       "  </thead>\n",
       "  <tbody>\n",
       "    <tr>\n",
       "      <th>233</th>\n",
       "      <td>Belarus</td>\n",
       "      <td>2019 [YR2019]</td>\n",
       "      <td>0.998209</td>\n",
       "      <td>0.085087</td>\n",
       "      <td>0.159591</td>\n",
       "      <td>0.033243</td>\n",
       "      <td>0.813909</td>\n",
       "      <td>0.461096</td>\n",
       "      <td>0.641630</td>\n",
       "      <td>0.002294</td>\n",
       "      <td>High</td>\n",
       "    </tr>\n",
       "    <tr>\n",
       "      <th>258</th>\n",
       "      <td>Colombia</td>\n",
       "      <td>2019 [YR2019]</td>\n",
       "      <td>0.932458</td>\n",
       "      <td>0.219775</td>\n",
       "      <td>0.400157</td>\n",
       "      <td>0.031228</td>\n",
       "      <td>0.304639</td>\n",
       "      <td>0.491772</td>\n",
       "      <td>0.289336</td>\n",
       "      <td>0.002236</td>\n",
       "      <td>Medium</td>\n",
       "    </tr>\n",
       "    <tr>\n",
       "      <th>263</th>\n",
       "      <td>Cote d'Ivoire</td>\n",
       "      <td>2019 [YR2019]</td>\n",
       "      <td>0.856312</td>\n",
       "      <td>0.717085</td>\n",
       "      <td>0.090409</td>\n",
       "      <td>0.010413</td>\n",
       "      <td>0.533255</td>\n",
       "      <td>0.442882</td>\n",
       "      <td>0.165076</td>\n",
       "      <td>0.004069</td>\n",
       "      <td>Low</td>\n",
       "    </tr>\n",
       "    <tr>\n",
       "      <th>275</th>\n",
       "      <td>El Salvador</td>\n",
       "      <td>2019 [YR2019]</td>\n",
       "      <td>0.845571</td>\n",
       "      <td>0.263170</td>\n",
       "      <td>0.159984</td>\n",
       "      <td>0.020402</td>\n",
       "      <td>0.445241</td>\n",
       "      <td>0.500719</td>\n",
       "      <td>0.193122</td>\n",
       "      <td>0.015019</td>\n",
       "      <td>Medium</td>\n",
       "    </tr>\n",
       "    <tr>\n",
       "      <th>301</th>\n",
       "      <td>Honduras</td>\n",
       "      <td>2019 [YR2019]</td>\n",
       "      <td>0.836607</td>\n",
       "      <td>0.393603</td>\n",
       "      <td>0.214230</td>\n",
       "      <td>0.011560</td>\n",
       "      <td>0.229099</td>\n",
       "      <td>0.626618</td>\n",
       "      <td>0.186502</td>\n",
       "      <td>0.004406</td>\n",
       "      <td>Medium</td>\n",
       "    </tr>\n",
       "  </tbody>\n",
       "</table>\n",
       "</div>"
      ],
      "text/plain": [
       "      Country Name           Year  Literacy_rate  birth_rate  \\\n",
       "233        Belarus  2019 [YR2019]       0.998209    0.085087   \n",
       "258       Colombia  2019 [YR2019]       0.932458    0.219775   \n",
       "263  Cote d'Ivoire  2019 [YR2019]       0.856312    0.717085   \n",
       "275    El Salvador  2019 [YR2019]       0.845571    0.263170   \n",
       "301       Honduras  2019 [YR2019]       0.836607    0.393603   \n",
       "\n",
       "     unemployment_rate       GDP  Death_rate   LF_rate  Alcohol Consumption  \\\n",
       "233           0.159591  0.033243    0.813909  0.461096             0.641630   \n",
       "258           0.400157  0.031228    0.304639  0.491772             0.289336   \n",
       "263           0.090409  0.010413    0.533255  0.442882             0.165076   \n",
       "275           0.159984  0.020402    0.445241  0.500719             0.193122   \n",
       "301           0.214230  0.011560    0.229099  0.626618             0.186502   \n",
       "\n",
       "     population_density Alcohol Consumption Category  \n",
       "233            0.002294                         High  \n",
       "258            0.002236                       Medium  \n",
       "263            0.004069                          Low  \n",
       "275            0.015019                       Medium  \n",
       "301            0.004406                       Medium  "
      ]
     },
     "execution_count": 21,
     "metadata": {},
     "output_type": "execute_result"
    }
   ],
   "source": [
    "df_2019.head()"
   ]
  },
  {
   "cell_type": "code",
   "execution_count": 25,
   "metadata": {},
   "outputs": [
    {
     "name": "stdout",
     "output_type": "stream",
     "text": [
      "                     Literacy_rate  birth_rate  unemployment_rate       GDP  \\\n",
      "Literacy_rate             1.000000   -0.522829           0.175090  0.306081   \n",
      "birth_rate               -0.522829    1.000000          -0.109192 -0.578427   \n",
      "unemployment_rate         0.175090   -0.109192           1.000000 -0.099965   \n",
      "GDP                       0.306081   -0.578427          -0.099965  1.000000   \n",
      "Death_rate                0.122543   -0.241666           0.180089 -0.231302   \n",
      "LF_rate                  -0.104367    0.204571          -0.356545 -0.116537   \n",
      "population_density        0.085004   -0.270544          -0.173384  0.738048   \n",
      "Alcohol Consumption       0.524442   -0.294356           0.349382 -0.090005   \n",
      "\n",
      "                     Death_rate   LF_rate  population_density  \\\n",
      "Literacy_rate          0.122543 -0.104367            0.085004   \n",
      "birth_rate            -0.241666  0.204571           -0.270544   \n",
      "unemployment_rate      0.180089 -0.356545           -0.173384   \n",
      "GDP                   -0.231302 -0.116537            0.738048   \n",
      "Death_rate             1.000000 -0.433004           -0.180004   \n",
      "LF_rate               -0.433004  1.000000           -0.133205   \n",
      "population_density    -0.180004 -0.133205            1.000000   \n",
      "Alcohol Consumption    0.596717 -0.258238           -0.254991   \n",
      "\n",
      "                     Alcohol Consumption  \n",
      "Literacy_rate                   0.524442  \n",
      "birth_rate                     -0.294356  \n",
      "unemployment_rate               0.349382  \n",
      "GDP                            -0.090005  \n",
      "Death_rate                      0.596717  \n",
      "LF_rate                        -0.258238  \n",
      "population_density             -0.254991  \n",
      "Alcohol Consumption             1.000000  \n"
     ]
    }
   ],
   "source": [
    "#lets see which  variables best correlate with our target variable\n",
    "target_variable = \"Alcohol Consumption\"\n",
    "#I am going to make a correlation matrix to test which variables are important\n",
    "columns_of_interest = ['Literacy_rate', 'birth_rate', \"unemployment_rate\", \"GDP\", \"Death_rate\", \"LF_rate\", 'population_density']\n",
    "\n",
    "# Select the specified columns and the salary column\n",
    "selected_data = df_2019[columns_of_interest + [target_variable]]\n",
    "\n",
    "# Calculate the correlation matrix\n",
    "correlation_matrix = selected_data.corr()\n",
    "\n",
    "# Print the correlation matrix\n",
    "print(correlation_matrix)#death rate and literacy rate seem to have the highest correlation, unemployment does too\n"
   ]
  },
  {
   "cell_type": "code",
   "execution_count": 23,
   "metadata": {},
   "outputs": [],
   "source": [
    "fig = px.scatter(df_2019, x=\"Literacy_rate\", y=\"Death_rate\", color=kmeans_obj.labels_,\n",
    "                    title=\"Literacy Rate vs. Death Rate\")\n",
    "fig.show(renderer=\"browser\")"
   ]
  },
  {
   "cell_type": "markdown",
   "metadata": {},
   "source": [
    "## Evaluate the quality of the clustering using total variance explained and silhouette scores"
   ]
  },
  {
   "cell_type": "code",
   "execution_count": 24,
   "metadata": {},
   "outputs": [
    {
     "name": "stdout",
     "output_type": "stream",
     "text": [
      "11.258373650598635\n",
      "9.52169318521333\n",
      "0.8457432201770136\n"
     ]
    },
    {
     "name": "stderr",
     "output_type": "stream",
     "text": [
      "/Users/alexandratorti/Library/Python/3.9/lib/python/site-packages/numpy/core/fromnumeric.py:86: FutureWarning:\n",
      "\n",
      "The behavior of DataFrame.sum with axis=None is deprecated, in a future version this will reduce over both axes and return a scalar. To retain the old behavior, pass axis=0 (or do not pass axis)\n",
      "\n"
     ]
    }
   ],
   "source": [
    "#Evaluate the quality of the clustering using total variance explained and silhouette scores\n",
    "total_sum_squares = np.sum((clust_data - np.mean(clust_data))**2)\n",
    "total = np.sum(total_sum_squares)\n",
    "print(total)\n",
    "\n",
    "between_SSE = (total-kmeans_obj.inertia_)\n",
    "print(between_SSE)\n",
    "Var_explained = between_SSE/total\n",
    "print(Var_explained)#variance explained looks good!"
   ]
  },
  {
   "cell_type": "markdown",
   "metadata": {},
   "source": [
    "## Determine the ideal number of clusters using the elbow method and the silhouette coefficient"
   ]
  },
  {
   "cell_type": "markdown",
   "metadata": {},
   "source": [
    "## Visualize the results of the elbow method"
   ]
  },
  {
   "cell_type": "markdown",
   "metadata": {},
   "source": [
    "## Use the recommended number of cluster (assuming it's different) to retrain your model and visualize the results"
   ]
  },
  {
   "cell_type": "markdown",
   "metadata": {},
   "source": [
    "## Once again evaluate the quality of the clustering using total variance explained and silhouette scores"
   ]
  },
  {
   "cell_type": "markdown",
   "metadata": {},
   "source": [
    "## Use the model to select countries for company to consider"
   ]
  }
 ],
 "metadata": {
  "kernelspec": {
   "display_name": "Python 3",
   "language": "python",
   "name": "python3"
  },
  "language_info": {
   "codemirror_mode": {
    "name": "ipython",
    "version": 3
   },
   "file_extension": ".py",
   "mimetype": "text/x-python",
   "name": "python",
   "nbconvert_exporter": "python",
   "pygments_lexer": "ipython3",
   "version": "3.9.6"
  },
  "orig_nbformat": 4
 },
 "nbformat": 4,
 "nbformat_minor": 2
}
