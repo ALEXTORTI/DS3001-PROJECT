{
 "cells": [
  {
   "cell_type": "code",
   "execution_count": 1,
   "metadata": {},
   "outputs": [],
   "source": [
    "#Group project!\n",
    "\n"
   ]
  },
  {
   "cell_type": "markdown",
   "metadata": {},
   "source": [
    "We've been hired by a new fizzy seltzer brand called Brian's Booze. The company has hired us as Data Scientists to determine which countries have the highest alcohol consumption so that their marketing team can target those countries to build/sell their brand in. It is our job to use different lifestyle variables that will help predict which countries have the highest alcohol consumption per capita. "
   ]
  },
  {
   "cell_type": "markdown",
   "metadata": {},
   "source": [
    "According to the National Library of Medicine, the differences in alcohol consumption per capita shed light on the different social, cultural, and political environments of different countries. Countries with high or low per capita alcohol consumption are referred to as wet or dry cultures, respectively. In wet cultures, alcohol is a part of daily life and social activities, examples include European countries in the Mediterranean. On the otherhand, in dry cultures, alcohol is not as prevalent in everyday life, so for example it would not be as freequent in meals. Abstinence is more common, but interestingly enough when drinking occurs, it is more likely to reesult in intoxication in these cultures. The United States, Canada, and Scandinavian countries are examples of drier cultures. So although a country may be deemed a more 'dry' or 'wet' country, it can still be a good target for an alcohol brand looking to break into the industry."
   ]
  },
  {
   "cell_type": "markdown",
   "metadata": {},
   "source": [
    "We will cluster alcohol consumption into low, medium, and high categories. "
   ]
  },
  {
   "cell_type": "code",
   "execution_count": 98,
   "metadata": {},
   "outputs": [],
   "source": [
    "# Load libraries\n",
    "import pandas as pd\n",
    "import numpy as np\n",
    "import plotly.express as px\n",
    "import plotly.graph_objects as go\n",
    "from sklearn.cluster import KMeans\n",
    "from sklearn.model_selection import train_test_split\n",
    "from sklearn.tree import DecisionTreeClassifier\n",
    "from sklearn.metrics import confusion_matrix\n",
    "import matplotlib.pyplot as plt\n",
    "from sklearn.preprocessing import StandardScaler, MinMaxScaler"
   ]
  },
  {
   "cell_type": "code",
   "execution_count": 99,
   "metadata": {},
   "outputs": [
    {
     "data": {
      "text/html": [
       "<div>\n",
       "<style scoped>\n",
       "    .dataframe tbody tr th:only-of-type {\n",
       "        vertical-align: middle;\n",
       "    }\n",
       "\n",
       "    .dataframe tbody tr th {\n",
       "        vertical-align: top;\n",
       "    }\n",
       "\n",
       "    .dataframe thead th {\n",
       "        text-align: right;\n",
       "    }\n",
       "</style>\n",
       "<table border=\"1\" class=\"dataframe\">\n",
       "  <thead>\n",
       "    <tr style=\"text-align: right;\">\n",
       "      <th></th>\n",
       "      <th>Country Name</th>\n",
       "      <th>Year</th>\n",
       "      <th>Alcohol Consumption</th>\n",
       "    </tr>\n",
       "  </thead>\n",
       "  <tbody>\n",
       "    <tr>\n",
       "      <th>0</th>\n",
       "      <td>Afghanistan</td>\n",
       "      <td>2015 [YR2015]</td>\n",
       "      <td>0.00874</td>\n",
       "    </tr>\n",
       "    <tr>\n",
       "      <th>1</th>\n",
       "      <td>Africa Eastern and Southern</td>\n",
       "      <td>2015 [YR2015]</td>\n",
       "      <td>4.75979799686623</td>\n",
       "    </tr>\n",
       "    <tr>\n",
       "      <th>2</th>\n",
       "      <td>Africa Western and Central</td>\n",
       "      <td>2015 [YR2015]</td>\n",
       "      <td>4.4374260825495</td>\n",
       "    </tr>\n",
       "    <tr>\n",
       "      <th>3</th>\n",
       "      <td>Albania</td>\n",
       "      <td>2015 [YR2015]</td>\n",
       "      <td>5.03752</td>\n",
       "    </tr>\n",
       "    <tr>\n",
       "      <th>4</th>\n",
       "      <td>Algeria</td>\n",
       "      <td>2015 [YR2015]</td>\n",
       "      <td>0.5844</td>\n",
       "    </tr>\n",
       "  </tbody>\n",
       "</table>\n",
       "</div>"
      ],
      "text/plain": [
       "                  Country Name           Year Alcohol Consumption\n",
       "0                  Afghanistan  2015 [YR2015]             0.00874\n",
       "1  Africa Eastern and Southern  2015 [YR2015]    4.75979799686623\n",
       "2   Africa Western and Central  2015 [YR2015]     4.4374260825495\n",
       "3                      Albania  2015 [YR2015]             5.03752\n",
       "4                      Algeria  2015 [YR2015]              0.5844"
      ]
     },
     "execution_count": 99,
     "metadata": {},
     "output_type": "execute_result"
    }
   ],
   "source": [
    "#let import all out data\n",
    "#Alcohol Data\n",
    "alc_df = pd.read_csv(\"/Users/juliet/Desktop/DS-3001-main/Final Project/alcohol.csv\")\n",
    "df_alc = pd.melt(alc_df, id_vars=['Country Name', 'Country Code', 'Series Name', \"Series Code\"], var_name='Year', value_name='Alcohol Consumption')\n",
    "columns_to_drop = ['Series Name', 'Series Code', 'Country Code']\n",
    "df_alc = df_alc.drop(columns=columns_to_drop)\n",
    "df_alc.head()"
   ]
  },
  {
   "cell_type": "code",
   "execution_count": 100,
   "metadata": {},
   "outputs": [
    {
     "data": {
      "text/html": [
       "<div>\n",
       "<style scoped>\n",
       "    .dataframe tbody tr th:only-of-type {\n",
       "        vertical-align: middle;\n",
       "    }\n",
       "\n",
       "    .dataframe tbody tr th {\n",
       "        vertical-align: top;\n",
       "    }\n",
       "\n",
       "    .dataframe thead th {\n",
       "        text-align: right;\n",
       "    }\n",
       "</style>\n",
       "<table border=\"1\" class=\"dataframe\">\n",
       "  <thead>\n",
       "    <tr style=\"text-align: right;\">\n",
       "      <th></th>\n",
       "      <th>Country Name</th>\n",
       "      <th>Year</th>\n",
       "      <th>Literacy_rate</th>\n",
       "    </tr>\n",
       "  </thead>\n",
       "  <tbody>\n",
       "    <tr>\n",
       "      <th>0</th>\n",
       "      <td>Afghanistan</td>\n",
       "      <td>2015 [YR2015]</td>\n",
       "      <td>..</td>\n",
       "    </tr>\n",
       "    <tr>\n",
       "      <th>1</th>\n",
       "      <td>Albania</td>\n",
       "      <td>2015 [YR2015]</td>\n",
       "      <td>..</td>\n",
       "    </tr>\n",
       "    <tr>\n",
       "      <th>2</th>\n",
       "      <td>Algeria</td>\n",
       "      <td>2015 [YR2015]</td>\n",
       "      <td>..</td>\n",
       "    </tr>\n",
       "    <tr>\n",
       "      <th>3</th>\n",
       "      <td>American Samoa</td>\n",
       "      <td>2015 [YR2015]</td>\n",
       "      <td>..</td>\n",
       "    </tr>\n",
       "    <tr>\n",
       "      <th>4</th>\n",
       "      <td>Andorra</td>\n",
       "      <td>2015 [YR2015]</td>\n",
       "      <td>..</td>\n",
       "    </tr>\n",
       "  </tbody>\n",
       "</table>\n",
       "</div>"
      ],
      "text/plain": [
       "     Country Name           Year Literacy_rate\n",
       "0     Afghanistan  2015 [YR2015]            ..\n",
       "1         Albania  2015 [YR2015]            ..\n",
       "2         Algeria  2015 [YR2015]            ..\n",
       "3  American Samoa  2015 [YR2015]            ..\n",
       "4         Andorra  2015 [YR2015]            .."
      ]
     },
     "execution_count": 100,
     "metadata": {},
     "output_type": "execute_result"
    }
   ],
   "source": [
    "#Literacy Rate Data\n",
    "lit_df = pd.read_csv(\"/Users/juliet/Desktop/DS-3001-main/Final Project/Literacy_rate_data.csv\")\n",
    "df_lit = pd.melt(lit_df, id_vars=['Country Name', 'Country Code', 'Series Name', \"Series Code\"], var_name='Year', value_name='Literacy_rate')\n",
    "columns_to_drop = ['Series Name', 'Series Code', 'Country Code']\n",
    "df_lit = df_lit.drop(columns=columns_to_drop)\n",
    "df_lit.head()"
   ]
  },
  {
   "cell_type": "markdown",
   "metadata": {},
   "source": [
    "## need to load in population data"
   ]
  },
  {
   "cell_type": "code",
   "execution_count": 101,
   "metadata": {},
   "outputs": [
    {
     "data": {
      "text/html": [
       "<div>\n",
       "<style scoped>\n",
       "    .dataframe tbody tr th:only-of-type {\n",
       "        vertical-align: middle;\n",
       "    }\n",
       "\n",
       "    .dataframe tbody tr th {\n",
       "        vertical-align: top;\n",
       "    }\n",
       "\n",
       "    .dataframe thead th {\n",
       "        text-align: right;\n",
       "    }\n",
       "</style>\n",
       "<table border=\"1\" class=\"dataframe\">\n",
       "  <thead>\n",
       "    <tr style=\"text-align: right;\">\n",
       "      <th></th>\n",
       "      <th>Country Name</th>\n",
       "      <th>Year</th>\n",
       "      <th>population_density</th>\n",
       "    </tr>\n",
       "  </thead>\n",
       "  <tbody>\n",
       "    <tr>\n",
       "      <th>0</th>\n",
       "      <td>Afghanistan</td>\n",
       "      <td>2013 [YR2013]</td>\n",
       "      <td>48.3590282569032</td>\n",
       "    </tr>\n",
       "    <tr>\n",
       "      <th>1</th>\n",
       "      <td>Albania</td>\n",
       "      <td>2013 [YR2013]</td>\n",
       "      <td>105.660291970803</td>\n",
       "    </tr>\n",
       "    <tr>\n",
       "      <th>2</th>\n",
       "      <td>Algeria</td>\n",
       "      <td>2013 [YR2013]</td>\n",
       "      <td>15.9549850109584</td>\n",
       "    </tr>\n",
       "    <tr>\n",
       "      <th>3</th>\n",
       "      <td>American Samoa</td>\n",
       "      <td>2013 [YR2013]</td>\n",
       "      <td>264.975</td>\n",
       "    </tr>\n",
       "    <tr>\n",
       "      <th>4</th>\n",
       "      <td>Andorra</td>\n",
       "      <td>2013 [YR2013]</td>\n",
       "      <td>151.844680851064</td>\n",
       "    </tr>\n",
       "  </tbody>\n",
       "</table>\n",
       "</div>"
      ],
      "text/plain": [
       "     Country Name           Year population_density\n",
       "0     Afghanistan  2013 [YR2013]   48.3590282569032\n",
       "1         Albania  2013 [YR2013]   105.660291970803\n",
       "2         Algeria  2013 [YR2013]   15.9549850109584\n",
       "3  American Samoa  2013 [YR2013]            264.975\n",
       "4         Andorra  2013 [YR2013]   151.844680851064"
      ]
     },
     "execution_count": 101,
     "metadata": {},
     "output_type": "execute_result"
    }
   ],
   "source": [
    "#Population Data\n",
    "pop_df = pd.read_csv(\"/Users/juliet/Desktop/DS-3001-main/Final Project/pop_data.csv\")\n",
    "df_pop = pd.melt(pop_df, id_vars=['Country Name', 'Country Code', 'Series Name', \"Series Code\"], var_name='Year', value_name='population_density')\n",
    "columns_to_drop = ['Series Name', 'Series Code', 'Country Code']\n",
    "df_pop = df_pop.drop(columns=columns_to_drop)\n",
    "df_pop.head()"
   ]
  },
  {
   "cell_type": "code",
   "execution_count": 102,
   "metadata": {},
   "outputs": [
    {
     "data": {
      "text/html": [
       "<div>\n",
       "<style scoped>\n",
       "    .dataframe tbody tr th:only-of-type {\n",
       "        vertical-align: middle;\n",
       "    }\n",
       "\n",
       "    .dataframe tbody tr th {\n",
       "        vertical-align: top;\n",
       "    }\n",
       "\n",
       "    .dataframe thead th {\n",
       "        text-align: right;\n",
       "    }\n",
       "</style>\n",
       "<table border=\"1\" class=\"dataframe\">\n",
       "  <thead>\n",
       "    <tr style=\"text-align: right;\">\n",
       "      <th></th>\n",
       "      <th>Country Name</th>\n",
       "      <th>Year</th>\n",
       "      <th>birth_rate</th>\n",
       "    </tr>\n",
       "  </thead>\n",
       "  <tbody>\n",
       "    <tr>\n",
       "      <th>0</th>\n",
       "      <td>Afghanistan</td>\n",
       "      <td>2015 [YR2015]</td>\n",
       "      <td>38.803</td>\n",
       "    </tr>\n",
       "    <tr>\n",
       "      <th>1</th>\n",
       "      <td>Albania</td>\n",
       "      <td>2015 [YR2015]</td>\n",
       "      <td>11.718</td>\n",
       "    </tr>\n",
       "    <tr>\n",
       "      <th>2</th>\n",
       "      <td>Algeria</td>\n",
       "      <td>2015 [YR2015]</td>\n",
       "      <td>25.405</td>\n",
       "    </tr>\n",
       "    <tr>\n",
       "      <th>3</th>\n",
       "      <td>American Samoa</td>\n",
       "      <td>2015 [YR2015]</td>\n",
       "      <td>..</td>\n",
       "    </tr>\n",
       "    <tr>\n",
       "      <th>4</th>\n",
       "      <td>Andorra</td>\n",
       "      <td>2015 [YR2015]</td>\n",
       "      <td>..</td>\n",
       "    </tr>\n",
       "  </tbody>\n",
       "</table>\n",
       "</div>"
      ],
      "text/plain": [
       "     Country Name           Year birth_rate\n",
       "0     Afghanistan  2015 [YR2015]     38.803\n",
       "1         Albania  2015 [YR2015]     11.718\n",
       "2         Algeria  2015 [YR2015]     25.405\n",
       "3  American Samoa  2015 [YR2015]         ..\n",
       "4         Andorra  2015 [YR2015]         .."
      ]
     },
     "execution_count": 102,
     "metadata": {},
     "output_type": "execute_result"
    }
   ],
   "source": [
    "#Birth Rate Data\n",
    "birth_df = pd.read_csv(\"/Users/juliet/Desktop/DS-3001-main/Final Project/birthratedata.csv\")\n",
    "df_birth = pd.melt(birth_df, id_vars=['Country Name', 'Country Code', 'Series Name', \"Series Code\"], var_name='Year', value_name='birth_rate')\n",
    "df_birth = df_birth.drop(columns=columns_to_drop)\n",
    "df_birth.head()"
   ]
  },
  {
   "cell_type": "code",
   "execution_count": 103,
   "metadata": {},
   "outputs": [
    {
     "data": {
      "text/html": [
       "<div>\n",
       "<style scoped>\n",
       "    .dataframe tbody tr th:only-of-type {\n",
       "        vertical-align: middle;\n",
       "    }\n",
       "\n",
       "    .dataframe tbody tr th {\n",
       "        vertical-align: top;\n",
       "    }\n",
       "\n",
       "    .dataframe thead th {\n",
       "        text-align: right;\n",
       "    }\n",
       "</style>\n",
       "<table border=\"1\" class=\"dataframe\">\n",
       "  <thead>\n",
       "    <tr style=\"text-align: right;\">\n",
       "      <th></th>\n",
       "      <th>Country Name</th>\n",
       "      <th>Year</th>\n",
       "      <th>primary_rate</th>\n",
       "    </tr>\n",
       "  </thead>\n",
       "  <tbody>\n",
       "    <tr>\n",
       "      <th>0</th>\n",
       "      <td>Afghanistan</td>\n",
       "      <td>2015 [YR2015]</td>\n",
       "      <td>..</td>\n",
       "    </tr>\n",
       "    <tr>\n",
       "      <th>1</th>\n",
       "      <td>Albania</td>\n",
       "      <td>2015 [YR2015]</td>\n",
       "      <td>49.37</td>\n",
       "    </tr>\n",
       "    <tr>\n",
       "      <th>2</th>\n",
       "      <td>Algeria</td>\n",
       "      <td>2015 [YR2015]</td>\n",
       "      <td>..</td>\n",
       "    </tr>\n",
       "    <tr>\n",
       "      <th>3</th>\n",
       "      <td>American Samoa</td>\n",
       "      <td>2015 [YR2015]</td>\n",
       "      <td>..</td>\n",
       "    </tr>\n",
       "    <tr>\n",
       "      <th>4</th>\n",
       "      <td>Andorra</td>\n",
       "      <td>2015 [YR2015]</td>\n",
       "      <td>..</td>\n",
       "    </tr>\n",
       "  </tbody>\n",
       "</table>\n",
       "</div>"
      ],
      "text/plain": [
       "     Country Name           Year primary_rate\n",
       "0     Afghanistan  2015 [YR2015]           ..\n",
       "1         Albania  2015 [YR2015]        49.37\n",
       "2         Algeria  2015 [YR2015]           ..\n",
       "3  American Samoa  2015 [YR2015]           ..\n",
       "4         Andorra  2015 [YR2015]           .."
      ]
     },
     "execution_count": 103,
     "metadata": {},
     "output_type": "execute_result"
    }
   ],
   "source": [
    "#Primary Edcuation in Labor Force Data\n",
    "primary_df = pd.read_csv(\"/Users/juliet/Desktop/DS-3001-main/Final Project/primary_edu_LF.csv\")\n",
    "df_primary = pd.melt(primary_df, id_vars=['Country Name', 'Country Code', 'Series Name', \"Series Code\"], var_name='Year', value_name='primary_rate')\n",
    "df_primary = df_primary.drop(columns=columns_to_drop)\n",
    "df_primary.head()"
   ]
  },
  {
   "cell_type": "code",
   "execution_count": 104,
   "metadata": {},
   "outputs": [
    {
     "data": {
      "text/html": [
       "<div>\n",
       "<style scoped>\n",
       "    .dataframe tbody tr th:only-of-type {\n",
       "        vertical-align: middle;\n",
       "    }\n",
       "\n",
       "    .dataframe tbody tr th {\n",
       "        vertical-align: top;\n",
       "    }\n",
       "\n",
       "    .dataframe thead th {\n",
       "        text-align: right;\n",
       "    }\n",
       "</style>\n",
       "<table border=\"1\" class=\"dataframe\">\n",
       "  <thead>\n",
       "    <tr style=\"text-align: right;\">\n",
       "      <th></th>\n",
       "      <th>Country Name</th>\n",
       "      <th>Year</th>\n",
       "      <th>murder_rate</th>\n",
       "    </tr>\n",
       "  </thead>\n",
       "  <tbody>\n",
       "    <tr>\n",
       "      <th>0</th>\n",
       "      <td>Afghanistan</td>\n",
       "      <td>2015 [YR2015]</td>\n",
       "      <td>9.97526212023234</td>\n",
       "    </tr>\n",
       "    <tr>\n",
       "      <th>1</th>\n",
       "      <td>Albania</td>\n",
       "      <td>2015 [YR2015]</td>\n",
       "      <td>2.22030990322398</td>\n",
       "    </tr>\n",
       "    <tr>\n",
       "      <th>2</th>\n",
       "      <td>Algeria</td>\n",
       "      <td>2015 [YR2015]</td>\n",
       "      <td>1.38076996361026</td>\n",
       "    </tr>\n",
       "    <tr>\n",
       "      <th>3</th>\n",
       "      <td>American Samoa</td>\n",
       "      <td>2015 [YR2015]</td>\n",
       "      <td>7.78694907335306</td>\n",
       "    </tr>\n",
       "    <tr>\n",
       "      <th>4</th>\n",
       "      <td>Andorra</td>\n",
       "      <td>2015 [YR2015]</td>\n",
       "      <td>0</td>\n",
       "    </tr>\n",
       "  </tbody>\n",
       "</table>\n",
       "</div>"
      ],
      "text/plain": [
       "     Country Name           Year       murder_rate\n",
       "0     Afghanistan  2015 [YR2015]  9.97526212023234\n",
       "1         Albania  2015 [YR2015]  2.22030990322398\n",
       "2         Algeria  2015 [YR2015]  1.38076996361026\n",
       "3  American Samoa  2015 [YR2015]  7.78694907335306\n",
       "4         Andorra  2015 [YR2015]                 0"
      ]
     },
     "execution_count": 104,
     "metadata": {},
     "output_type": "execute_result"
    }
   ],
   "source": [
    "#Intentional Homocide Data\n",
    "murder_df = pd.read_csv(\"/Users/juliet/Desktop/DS-3001-main/Final Project/intentional_homocide.csv\")\n",
    "df_murder = pd.melt(murder_df, id_vars=['Country Name', 'Country Code', 'Series Name', \"Series Code\"], var_name='Year', value_name='murder_rate')\n",
    "df_murder = df_murder.drop(columns=columns_to_drop)\n",
    "df_murder.head()"
   ]
  },
  {
   "cell_type": "code",
   "execution_count": 105,
   "metadata": {},
   "outputs": [
    {
     "data": {
      "text/html": [
       "<div>\n",
       "<style scoped>\n",
       "    .dataframe tbody tr th:only-of-type {\n",
       "        vertical-align: middle;\n",
       "    }\n",
       "\n",
       "    .dataframe tbody tr th {\n",
       "        vertical-align: top;\n",
       "    }\n",
       "\n",
       "    .dataframe thead th {\n",
       "        text-align: right;\n",
       "    }\n",
       "</style>\n",
       "<table border=\"1\" class=\"dataframe\">\n",
       "  <thead>\n",
       "    <tr style=\"text-align: right;\">\n",
       "      <th></th>\n",
       "      <th>Country Name</th>\n",
       "      <th>Year</th>\n",
       "      <th>unemployment_rate</th>\n",
       "    </tr>\n",
       "  </thead>\n",
       "  <tbody>\n",
       "    <tr>\n",
       "      <th>0</th>\n",
       "      <td>Afghanistan</td>\n",
       "      <td>2015 [YR2015]</td>\n",
       "      <td>..</td>\n",
       "    </tr>\n",
       "    <tr>\n",
       "      <th>1</th>\n",
       "      <td>Albania</td>\n",
       "      <td>2015 [YR2015]</td>\n",
       "      <td>17.19</td>\n",
       "    </tr>\n",
       "    <tr>\n",
       "      <th>2</th>\n",
       "      <td>Algeria</td>\n",
       "      <td>2015 [YR2015]</td>\n",
       "      <td>11.21</td>\n",
       "    </tr>\n",
       "    <tr>\n",
       "      <th>3</th>\n",
       "      <td>American Samoa</td>\n",
       "      <td>2015 [YR2015]</td>\n",
       "      <td>..</td>\n",
       "    </tr>\n",
       "    <tr>\n",
       "      <th>4</th>\n",
       "      <td>Andorra</td>\n",
       "      <td>2015 [YR2015]</td>\n",
       "      <td>..</td>\n",
       "    </tr>\n",
       "  </tbody>\n",
       "</table>\n",
       "</div>"
      ],
      "text/plain": [
       "     Country Name           Year unemployment_rate\n",
       "0     Afghanistan  2015 [YR2015]                ..\n",
       "1         Albania  2015 [YR2015]             17.19\n",
       "2         Algeria  2015 [YR2015]             11.21\n",
       "3  American Samoa  2015 [YR2015]                ..\n",
       "4         Andorra  2015 [YR2015]                .."
      ]
     },
     "execution_count": 105,
     "metadata": {},
     "output_type": "execute_result"
    }
   ],
   "source": [
    "#Unemployment Rate Data\n",
    "unem_df = pd.read_csv(\"/Users/juliet/Desktop/DS-3001-main/Final Project/unemploymentdata.csv\")\n",
    "df_unem = pd.melt(unem_df, id_vars=['Country Name', 'Country Code', 'Series Name', \"Series Code\"], var_name='Year', value_name='unemployment_rate')\n",
    "df_unem = df_unem.drop(columns=columns_to_drop)\n",
    "df_unem.head()"
   ]
  },
  {
   "cell_type": "code",
   "execution_count": 106,
   "metadata": {},
   "outputs": [
    {
     "data": {
      "text/html": [
       "<div>\n",
       "<style scoped>\n",
       "    .dataframe tbody tr th:only-of-type {\n",
       "        vertical-align: middle;\n",
       "    }\n",
       "\n",
       "    .dataframe tbody tr th {\n",
       "        vertical-align: top;\n",
       "    }\n",
       "\n",
       "    .dataframe thead th {\n",
       "        text-align: right;\n",
       "    }\n",
       "</style>\n",
       "<table border=\"1\" class=\"dataframe\">\n",
       "  <thead>\n",
       "    <tr style=\"text-align: right;\">\n",
       "      <th></th>\n",
       "      <th>Country Name</th>\n",
       "      <th>Year</th>\n",
       "      <th>GDP</th>\n",
       "    </tr>\n",
       "  </thead>\n",
       "  <tbody>\n",
       "    <tr>\n",
       "      <th>0</th>\n",
       "      <td>Afghanistan</td>\n",
       "      <td>2015 [YR2015]</td>\n",
       "      <td>592.476164793256</td>\n",
       "    </tr>\n",
       "    <tr>\n",
       "      <th>1</th>\n",
       "      <td>Albania</td>\n",
       "      <td>2015 [YR2015]</td>\n",
       "      <td>3952.80358410846</td>\n",
       "    </tr>\n",
       "    <tr>\n",
       "      <th>2</th>\n",
       "      <td>Algeria</td>\n",
       "      <td>2015 [YR2015]</td>\n",
       "      <td>4197.41997101868</td>\n",
       "    </tr>\n",
       "    <tr>\n",
       "      <th>3</th>\n",
       "      <td>American Samoa</td>\n",
       "      <td>2015 [YR2015]</td>\n",
       "      <td>13101.5418159165</td>\n",
       "    </tr>\n",
       "    <tr>\n",
       "      <th>4</th>\n",
       "      <td>Andorra</td>\n",
       "      <td>2015 [YR2015]</td>\n",
       "      <td>38885.5303237179</td>\n",
       "    </tr>\n",
       "  </tbody>\n",
       "</table>\n",
       "</div>"
      ],
      "text/plain": [
       "     Country Name           Year               GDP\n",
       "0     Afghanistan  2015 [YR2015]  592.476164793256\n",
       "1         Albania  2015 [YR2015]  3952.80358410846\n",
       "2         Algeria  2015 [YR2015]  4197.41997101868\n",
       "3  American Samoa  2015 [YR2015]  13101.5418159165\n",
       "4         Andorra  2015 [YR2015]  38885.5303237179"
      ]
     },
     "execution_count": 106,
     "metadata": {},
     "output_type": "execute_result"
    }
   ],
   "source": [
    "#GDP Data\n",
    "gdp_df = pd.read_csv(\"/Users/juliet/Desktop/DS-3001-main/Final Project/gdpdata.csv\")\n",
    "df_gdp = pd.melt(gdp_df, id_vars=['Country Name', 'Country Code', 'Series Name', \"Series Code\"], var_name='Year', value_name='GDP')\n",
    "df_gdp = df_gdp.drop(columns=columns_to_drop)\n",
    "df_gdp.head()"
   ]
  },
  {
   "cell_type": "code",
   "execution_count": 107,
   "metadata": {},
   "outputs": [
    {
     "data": {
      "text/html": [
       "<div>\n",
       "<style scoped>\n",
       "    .dataframe tbody tr th:only-of-type {\n",
       "        vertical-align: middle;\n",
       "    }\n",
       "\n",
       "    .dataframe tbody tr th {\n",
       "        vertical-align: top;\n",
       "    }\n",
       "\n",
       "    .dataframe thead th {\n",
       "        text-align: right;\n",
       "    }\n",
       "</style>\n",
       "<table border=\"1\" class=\"dataframe\">\n",
       "  <thead>\n",
       "    <tr style=\"text-align: right;\">\n",
       "      <th></th>\n",
       "      <th>Country Name</th>\n",
       "      <th>Year</th>\n",
       "      <th>Death_rate</th>\n",
       "    </tr>\n",
       "  </thead>\n",
       "  <tbody>\n",
       "    <tr>\n",
       "      <th>0</th>\n",
       "      <td>Afghanistan</td>\n",
       "      <td>2015 [YR2015]</td>\n",
       "      <td>7.331</td>\n",
       "    </tr>\n",
       "    <tr>\n",
       "      <th>1</th>\n",
       "      <td>Albania</td>\n",
       "      <td>2015 [YR2015]</td>\n",
       "      <td>7.947</td>\n",
       "    </tr>\n",
       "    <tr>\n",
       "      <th>2</th>\n",
       "      <td>Algeria</td>\n",
       "      <td>2015 [YR2015]</td>\n",
       "      <td>4.437</td>\n",
       "    </tr>\n",
       "    <tr>\n",
       "      <th>3</th>\n",
       "      <td>American Samoa</td>\n",
       "      <td>2015 [YR2015]</td>\n",
       "      <td>..</td>\n",
       "    </tr>\n",
       "    <tr>\n",
       "      <th>4</th>\n",
       "      <td>Andorra</td>\n",
       "      <td>2015 [YR2015]</td>\n",
       "      <td>..</td>\n",
       "    </tr>\n",
       "  </tbody>\n",
       "</table>\n",
       "</div>"
      ],
      "text/plain": [
       "     Country Name           Year Death_rate\n",
       "0     Afghanistan  2015 [YR2015]      7.331\n",
       "1         Albania  2015 [YR2015]      7.947\n",
       "2         Algeria  2015 [YR2015]      4.437\n",
       "3  American Samoa  2015 [YR2015]         ..\n",
       "4         Andorra  2015 [YR2015]         .."
      ]
     },
     "execution_count": 107,
     "metadata": {},
     "output_type": "execute_result"
    }
   ],
   "source": [
    "#Death Rate Data\n",
    "death_df = pd.read_csv(\"/Users/juliet/Desktop/DS-3001-main/Final Project/deathdata.csv\")\n",
    "df_death = pd.melt(death_df, id_vars=['Country Name', 'Country Code', 'Series Name', \"Series Code\"], var_name='Year', value_name='Death_rate')\n",
    "df_death = df_death.drop(columns=columns_to_drop)\n",
    "df_death.head()"
   ]
  },
  {
   "cell_type": "code",
   "execution_count": 108,
   "metadata": {},
   "outputs": [
    {
     "data": {
      "text/html": [
       "<div>\n",
       "<style scoped>\n",
       "    .dataframe tbody tr th:only-of-type {\n",
       "        vertical-align: middle;\n",
       "    }\n",
       "\n",
       "    .dataframe tbody tr th {\n",
       "        vertical-align: top;\n",
       "    }\n",
       "\n",
       "    .dataframe thead th {\n",
       "        text-align: right;\n",
       "    }\n",
       "</style>\n",
       "<table border=\"1\" class=\"dataframe\">\n",
       "  <thead>\n",
       "    <tr style=\"text-align: right;\">\n",
       "      <th></th>\n",
       "      <th>Country Name</th>\n",
       "      <th>Year</th>\n",
       "      <th>LF_rate</th>\n",
       "    </tr>\n",
       "  </thead>\n",
       "  <tbody>\n",
       "    <tr>\n",
       "      <th>0</th>\n",
       "      <td>Afghanistan</td>\n",
       "      <td>2015 [YR2015]</td>\n",
       "      <td>..</td>\n",
       "    </tr>\n",
       "    <tr>\n",
       "      <th>1</th>\n",
       "      <td>Albania</td>\n",
       "      <td>2015 [YR2015]</td>\n",
       "      <td>31.3</td>\n",
       "    </tr>\n",
       "    <tr>\n",
       "      <th>2</th>\n",
       "      <td>Algeria</td>\n",
       "      <td>2015 [YR2015]</td>\n",
       "      <td>25.19</td>\n",
       "    </tr>\n",
       "    <tr>\n",
       "      <th>3</th>\n",
       "      <td>American Samoa</td>\n",
       "      <td>2015 [YR2015]</td>\n",
       "      <td>..</td>\n",
       "    </tr>\n",
       "    <tr>\n",
       "      <th>4</th>\n",
       "      <td>Andorra</td>\n",
       "      <td>2015 [YR2015]</td>\n",
       "      <td>..</td>\n",
       "    </tr>\n",
       "  </tbody>\n",
       "</table>\n",
       "</div>"
      ],
      "text/plain": [
       "     Country Name           Year LF_rate\n",
       "0     Afghanistan  2015 [YR2015]      ..\n",
       "1         Albania  2015 [YR2015]    31.3\n",
       "2         Algeria  2015 [YR2015]   25.19\n",
       "3  American Samoa  2015 [YR2015]      ..\n",
       "4         Andorra  2015 [YR2015]      .."
      ]
     },
     "execution_count": 108,
     "metadata": {},
     "output_type": "execute_result"
    }
   ],
   "source": [
    "#Labor Force Participation Data\n",
    "labor_df = pd.read_csv(\"/Users/juliet/Desktop/DS-3001-main/Final Project/laborparticipation.csv\")\n",
    "df_labor = pd.melt(labor_df, id_vars=['Country Name', 'Country Code', 'Series Name', \"Series Code\"], var_name='Year', value_name='LF_rate')\n",
    "df_labor = df_labor.drop(columns=columns_to_drop)\n",
    "df_labor.head()"
   ]
  },
  {
   "cell_type": "code",
   "execution_count": 109,
   "metadata": {},
   "outputs": [
    {
     "data": {
      "text/html": [
       "<div>\n",
       "<style scoped>\n",
       "    .dataframe tbody tr th:only-of-type {\n",
       "        vertical-align: middle;\n",
       "    }\n",
       "\n",
       "    .dataframe tbody tr th {\n",
       "        vertical-align: top;\n",
       "    }\n",
       "\n",
       "    .dataframe thead th {\n",
       "        text-align: right;\n",
       "    }\n",
       "</style>\n",
       "<table border=\"1\" class=\"dataframe\">\n",
       "  <thead>\n",
       "    <tr style=\"text-align: right;\">\n",
       "      <th></th>\n",
       "      <th>Country Name</th>\n",
       "      <th>Year</th>\n",
       "      <th>Literacy_rate</th>\n",
       "      <th>birth_rate</th>\n",
       "      <th>unemployment_rate</th>\n",
       "      <th>GDP</th>\n",
       "      <th>Death_rate</th>\n",
       "      <th>LF_rate</th>\n",
       "      <th>Alcohol Consumption</th>\n",
       "      <th>population_density</th>\n",
       "      <th>murder_rate</th>\n",
       "      <th>primary_rate</th>\n",
       "    </tr>\n",
       "  </thead>\n",
       "  <tbody>\n",
       "    <tr>\n",
       "      <th>0</th>\n",
       "      <td>Afghanistan</td>\n",
       "      <td>2015 [YR2015]</td>\n",
       "      <td>..</td>\n",
       "      <td>38.803</td>\n",
       "      <td>..</td>\n",
       "      <td>592.476164793256</td>\n",
       "      <td>7.331</td>\n",
       "      <td>..</td>\n",
       "      <td>0.00874</td>\n",
       "      <td>51.7509145546816</td>\n",
       "      <td>9.97526212023234</td>\n",
       "      <td>..</td>\n",
       "    </tr>\n",
       "    <tr>\n",
       "      <th>1</th>\n",
       "      <td>Albania</td>\n",
       "      <td>2015 [YR2015]</td>\n",
       "      <td>..</td>\n",
       "      <td>11.718</td>\n",
       "      <td>17.19</td>\n",
       "      <td>3952.80358410846</td>\n",
       "      <td>7.947</td>\n",
       "      <td>31.3</td>\n",
       "      <td>5.03752</td>\n",
       "      <td>105.135145985401</td>\n",
       "      <td>2.22030990322398</td>\n",
       "      <td>49.37</td>\n",
       "    </tr>\n",
       "    <tr>\n",
       "      <th>2</th>\n",
       "      <td>Algeria</td>\n",
       "      <td>2015 [YR2015]</td>\n",
       "      <td>..</td>\n",
       "      <td>25.405</td>\n",
       "      <td>11.21</td>\n",
       "      <td>4197.41997101868</td>\n",
       "      <td>4.437</td>\n",
       "      <td>25.19</td>\n",
       "      <td>0.5844</td>\n",
       "      <td>16.6026255583626</td>\n",
       "      <td>1.38076996361026</td>\n",
       "      <td>..</td>\n",
       "    </tr>\n",
       "    <tr>\n",
       "      <th>3</th>\n",
       "      <td>American Samoa</td>\n",
       "      <td>2015 [YR2015]</td>\n",
       "      <td>..</td>\n",
       "      <td>..</td>\n",
       "      <td>..</td>\n",
       "      <td>13101.5418159165</td>\n",
       "      <td>..</td>\n",
       "      <td>..</td>\n",
       "      <td>..</td>\n",
       "      <td>256.84</td>\n",
       "      <td>7.78694907335306</td>\n",
       "      <td>..</td>\n",
       "    </tr>\n",
       "    <tr>\n",
       "      <th>4</th>\n",
       "      <td>Andorra</td>\n",
       "      <td>2015 [YR2015]</td>\n",
       "      <td>..</td>\n",
       "      <td>..</td>\n",
       "      <td>..</td>\n",
       "      <td>38885.5303237179</td>\n",
       "      <td>..</td>\n",
       "      <td>..</td>\n",
       "      <td>10.76055</td>\n",
       "      <td>152.651063829787</td>\n",
       "      <td>0</td>\n",
       "      <td>..</td>\n",
       "    </tr>\n",
       "  </tbody>\n",
       "</table>\n",
       "</div>"
      ],
      "text/plain": [
       "     Country Name           Year Literacy_rate birth_rate unemployment_rate  \\\n",
       "0     Afghanistan  2015 [YR2015]            ..     38.803                ..   \n",
       "1         Albania  2015 [YR2015]            ..     11.718             17.19   \n",
       "2         Algeria  2015 [YR2015]            ..     25.405             11.21   \n",
       "3  American Samoa  2015 [YR2015]            ..         ..                ..   \n",
       "4         Andorra  2015 [YR2015]            ..         ..                ..   \n",
       "\n",
       "                GDP Death_rate LF_rate Alcohol Consumption population_density  \\\n",
       "0  592.476164793256      7.331      ..             0.00874   51.7509145546816   \n",
       "1  3952.80358410846      7.947    31.3             5.03752   105.135145985401   \n",
       "2  4197.41997101868      4.437   25.19              0.5844   16.6026255583626   \n",
       "3  13101.5418159165         ..      ..                  ..             256.84   \n",
       "4  38885.5303237179         ..      ..            10.76055   152.651063829787   \n",
       "\n",
       "        murder_rate primary_rate  \n",
       "0  9.97526212023234           ..  \n",
       "1  2.22030990322398        49.37  \n",
       "2  1.38076996361026           ..  \n",
       "3  7.78694907335306           ..  \n",
       "4                 0           ..  "
      ]
     },
     "execution_count": 109,
     "metadata": {},
     "output_type": "execute_result"
    }
   ],
   "source": [
    "#now its time to merge all out dataframes. \n",
    "# Merge DataFrames\n",
    "merged_df = pd.merge(df_lit, df_birth, on=['Country Name', 'Year'])\n",
    "merged_df = pd.merge(merged_df, df_unem, on=['Country Name', 'Year'])\n",
    "merged_df = pd.merge(merged_df, df_gdp, on=['Country Name', 'Year'])\n",
    "merged_df = pd.merge(merged_df, df_death, on=['Country Name', 'Year'])\n",
    "merged_df = pd.merge(merged_df, df_labor, on=['Country Name', 'Year'])\n",
    "merged_df = pd.merge(merged_df, df_alc, on=['Country Name', 'Year'])\n",
    "merged_df = pd.merge(merged_df, df_pop, on=['Country Name', 'Year'])\n",
    "merged_df = pd.merge(merged_df, df_murder, on=['Country Name', 'Year'])\n",
    "merged_df = pd.merge(merged_df, df_primary, on=['Country Name', 'Year'])\n",
    "merged_df.head()"
   ]
  },
  {
   "cell_type": "markdown",
   "metadata": {},
   "source": [
    "## Drop variables that will not be needed or are duplicates"
   ]
  },
  {
   "cell_type": "code",
   "execution_count": 110,
   "metadata": {},
   "outputs": [
    {
     "name": "stdout",
     "output_type": "stream",
     "text": [
      "Country Name           0\n",
      "Year                   0\n",
      "Literacy_rate          0\n",
      "birth_rate             0\n",
      "unemployment_rate      0\n",
      "GDP                    0\n",
      "Death_rate             0\n",
      "LF_rate                0\n",
      "Alcohol Consumption    0\n",
      "population_density     0\n",
      "murder_rate            0\n",
      "primary_rate           0\n",
      "dtype: int64\n",
      "Rows with NaN values:\n",
      "Empty DataFrame\n",
      "Columns: [Country Name, Year, Literacy_rate, birth_rate, unemployment_rate, GDP, Death_rate, LF_rate, Alcohol Consumption, population_density, murder_rate, primary_rate]\n",
      "Index: []\n"
     ]
    }
   ],
   "source": [
    "#lets take a look at our data and see what needs cleaning!\n",
    "merged_df.head()\n",
    "\n",
    "na_counts = merged_df.isna().sum()\n",
    "print(na_counts)\n",
    "# Check for NaN values in each row\n",
    "rows_with_na = merged_df.isna().any(axis=1)\n",
    "\n",
    "# Display rows with NaN values\n",
    "print(\"Rows with NaN values:\")\n",
    "print(merged_df[rows_with_na])# there seems to be some errors when I merged the data frames that added a bunch of NaN values. Lets delete these extra rows because we will not need them"
   ]
  },
  {
   "cell_type": "code",
   "execution_count": 111,
   "metadata": {},
   "outputs": [
    {
     "name": "stdout",
     "output_type": "stream",
     "text": [
      "Country Name           0\n",
      "Year                   0\n",
      "Literacy_rate          0\n",
      "birth_rate             0\n",
      "unemployment_rate      0\n",
      "GDP                    0\n",
      "Death_rate             0\n",
      "LF_rate                0\n",
      "Alcohol Consumption    0\n",
      "population_density     0\n",
      "murder_rate            0\n",
      "primary_rate           0\n",
      "dtype: int64\n"
     ]
    }
   ],
   "source": [
    "\n",
    "# Drop rows with NaN values in column Country\n",
    "df_cleaned = merged_df.dropna(subset=['Country Name'], how='any')\n",
    "\n",
    "#DataFrame after dropping rows with NaN values in column Country Name\n",
    "# print(df_cleaned)\n",
    "\n",
    "na_counts = df_cleaned.isna().sum()\n",
    "print(na_counts)\n"
   ]
  },
  {
   "cell_type": "code",
   "execution_count": 112,
   "metadata": {},
   "outputs": [
    {
     "name": "stdout",
     "output_type": "stream",
     "text": [
      "<class 'pandas.core.frame.DataFrame'>\n",
      "RangeIndex: 432 entries, 0 to 431\n",
      "Data columns (total 12 columns):\n",
      " #   Column               Non-Null Count  Dtype \n",
      "---  ------               --------------  ----- \n",
      " 0   Country Name         432 non-null    object\n",
      " 1   Year                 432 non-null    object\n",
      " 2   Literacy_rate        65 non-null     object\n",
      " 3   birth_rate           427 non-null    object\n",
      " 4   unemployment_rate    247 non-null    object\n",
      " 5   GDP                  418 non-null    object\n",
      " 6   Death_rate           427 non-null    object\n",
      " 7   LF_rate              228 non-null    object\n",
      " 8   Alcohol Consumption  372 non-null    object\n",
      " 9   population_density   430 non-null    object\n",
      " 10  murder_rate          267 non-null    object\n",
      " 11  primary_rate         210 non-null    object\n",
      "dtypes: object(12)\n",
      "memory usage: 40.6+ KB\n",
      "<class 'pandas.core.frame.DataFrame'>\n",
      "RangeIndex: 432 entries, 0 to 431\n",
      "Data columns (total 13 columns):\n",
      " #   Column               Non-Null Count  Dtype  \n",
      "---  ------               --------------  -----  \n",
      " 0   Country Name         432 non-null    object \n",
      " 1   Year                 432 non-null    object \n",
      " 2   Literacy_rate        65 non-null     float64\n",
      " 3   birth_rate           427 non-null    float64\n",
      " 4   unemployment_rate    247 non-null    float64\n",
      " 5   GDP                  418 non-null    float64\n",
      " 6   Death_rate           427 non-null    float64\n",
      " 7   LF_rate              228 non-null    float64\n",
      " 8   Alcohol Consumption  372 non-null    float64\n",
      " 9   population_density   430 non-null    object \n",
      " 10  murder_rate          267 non-null    float64\n",
      " 11  primary_rate         210 non-null    float64\n",
      " 12  growth_rate          427 non-null    float64\n",
      "dtypes: float64(10), object(3)\n",
      "memory usage: 44.0+ KB\n"
     ]
    }
   ],
   "source": [
    "#Need to drop .. values so that we can transform values to floats\n",
    "df_cleaned.replace('..', np.nan, inplace=True)\n",
    "df_cleaned.info()\n",
    "\n",
    "\n",
    "#We need to change the columns that are objects to strings and floats\n",
    "columns_to_convert = ['Literacy_rate', 'birth_rate', \"unemployment_rate\", \"GDP\", \"Death_rate\", \"LF_rate\",\"murder_rate\", \"primary_rate\", \"Alcohol Consumption\"]\n",
    "df_cleaned[columns_to_convert] = df_cleaned[columns_to_convert].astype(float)\n",
    "\n",
    "\n",
    "columns_to_convert2 = ['Country Name', 'Year']\n",
    "df_cleaned[columns_to_convert2] = df_cleaned[columns_to_convert2].astype(str)\n",
    "\n",
    "# Add the line to calculate the growth rate\n",
    "df_cleaned['growth_rate'] = df_cleaned['birth_rate'] - df_cleaned['Death_rate']\n",
    "\n",
    "df_cleaned.info()\n"
   ]
  },
  {
   "cell_type": "code",
   "execution_count": 113,
   "metadata": {},
   "outputs": [
    {
     "name": "stdout",
     "output_type": "stream",
     "text": [
      "              Country Name           Year  Literacy_rate  birth_rate  \\\n",
      "216            Afghanistan  2019 [YR2019]            NaN      36.466   \n",
      "217                Albania  2019 [YR2019]            NaN      10.343   \n",
      "218                Algeria  2019 [YR2019]            NaN      23.298   \n",
      "219         American Samoa  2019 [YR2019]            NaN         NaN   \n",
      "220                Andorra  2019 [YR2019]            NaN       7.000   \n",
      "..                     ...            ...            ...         ...   \n",
      "427  Virgin Islands (U.S.)  2019 [YR2019]            NaN      12.300   \n",
      "428     West Bank and Gaza  2019 [YR2019]      97.378258      29.466   \n",
      "429            Yemen, Rep.  2019 [YR2019]            NaN      31.778   \n",
      "430                 Zambia  2019 [YR2019]            NaN      35.462   \n",
      "431               Zimbabwe  2019 [YR2019]            NaN      31.518   \n",
      "\n",
      "     unemployment_rate           GDP  Death_rate  LF_rate  \\\n",
      "216                NaN    500.522981       6.791      NaN   \n",
      "217              11.47   5396.214227       8.480    36.59   \n",
      "218                NaN   4021.983608       4.392      NaN   \n",
      "219                NaN  13672.576657         NaN      NaN   \n",
      "220                NaN  41328.600499       3.900      NaN   \n",
      "..                 ...           ...         ...      ...   \n",
      "427                NaN  38596.030712       8.200      NaN   \n",
      "428              25.34   3656.858271       3.225    30.27   \n",
      "429                NaN    693.816484       6.416      NaN   \n",
      "430               5.54   1268.120941       6.571    36.66   \n",
      "431               7.37   1421.868596       8.043    50.07   \n",
      "\n",
      "     Alcohol Consumption population_density  murder_rate  primary_rate  \\\n",
      "216              0.01618   57.9082516903546     7.180397           NaN   \n",
      "217              5.10935   104.167554744526     2.261748         55.18   \n",
      "218              0.61271   17.9303156808402     1.215304           NaN   \n",
      "219                  NaN            236.605     0.000000           NaN   \n",
      "220             11.05154   162.431914893617          NaN           NaN   \n",
      "..                   ...                ...          ...           ...   \n",
      "427                  NaN   304.768571428571          NaN           NaN   \n",
      "428                  NaN   778.290033222591     0.712864         40.89   \n",
      "429              0.02778   59.7509157717295          NaN           NaN   \n",
      "430              3.85176   24.7252142213374          NaN         59.81   \n",
      "431              3.62809   39.6913739175391     5.145035         62.61   \n",
      "\n",
      "     growth_rate  \n",
      "216       29.675  \n",
      "217        1.863  \n",
      "218       18.906  \n",
      "219          NaN  \n",
      "220        3.100  \n",
      "..           ...  \n",
      "427        4.100  \n",
      "428       26.241  \n",
      "429       25.362  \n",
      "430       28.891  \n",
      "431       23.475  \n",
      "\n",
      "[216 rows x 13 columns]\n",
      "<class 'pandas.core.frame.DataFrame'>\n",
      "Index: 216 entries, 216 to 431\n",
      "Data columns (total 13 columns):\n",
      " #   Column               Non-Null Count  Dtype  \n",
      "---  ------               --------------  -----  \n",
      " 0   Country Name         216 non-null    object \n",
      " 1   Year                 216 non-null    object \n",
      " 2   Literacy_rate        26 non-null     float64\n",
      " 3   birth_rate           214 non-null    float64\n",
      " 4   unemployment_rate    126 non-null    float64\n",
      " 5   GDP                  209 non-null    float64\n",
      " 6   Death_rate           214 non-null    float64\n",
      " 7   LF_rate              121 non-null    float64\n",
      " 8   Alcohol Consumption  186 non-null    float64\n",
      " 9   population_density   215 non-null    object \n",
      " 10  murder_rate          135 non-null    float64\n",
      " 11  primary_rate         112 non-null    float64\n",
      " 12  growth_rate          214 non-null    float64\n",
      "dtypes: float64(10), object(3)\n",
      "memory usage: 23.6+ KB\n"
     ]
    }
   ],
   "source": [
    "#For the first time we cluster, lets use 2019 data.\n",
    "df = pd.DataFrame(df_cleaned)\n",
    "\n",
    "# Specify the year you want to keep\n",
    "target_year = '2019 [YR2019]'\n",
    "\n",
    "# Use boolean indexing to filter the DataFrame\n",
    "df_filtered = df[df['Year'] == target_year]\n",
    "\n",
    "# Display the result\n",
    "print(df_filtered)\n",
    "df_filtered.info()\n"
   ]
  },
  {
   "cell_type": "code",
   "execution_count": 114,
   "metadata": {},
   "outputs": [
    {
     "name": "stdout",
     "output_type": "stream",
     "text": [
      "Index(['Literacy_rate', 'birth_rate', 'unemployment_rate', 'GDP', 'Death_rate',\n",
      "       'LF_rate', 'Alcohol Consumption', 'murder_rate', 'primary_rate',\n",
      "       'growth_rate'],\n",
      "      dtype='object')\n"
     ]
    },
    {
     "name": "stderr",
     "output_type": "stream",
     "text": [
      "/var/folders/dg/_hgxmwbx0vn902dz__0p5_440000gn/T/ipykernel_4719/2499516412.py:4: SettingWithCopyWarning:\n",
      "\n",
      "\n",
      "A value is trying to be set on a copy of a slice from a DataFrame.\n",
      "Try using .loc[row_indexer,col_indexer] = value instead\n",
      "\n",
      "See the caveats in the documentation: https://pandas.pydata.org/pandas-docs/stable/user_guide/indexing.html#returning-a-view-versus-a-copy\n",
      "\n"
     ]
    }
   ],
   "source": [
    "#Now lets normalize the data!\n",
    "numeric_columns = df_filtered.select_dtypes(\"float\", \"int\").columns\n",
    "print(numeric_columns)\n",
    "df_filtered[numeric_columns]= MinMaxScaler().fit_transform(df_filtered[numeric_columns])\n"
   ]
  },
  {
   "cell_type": "code",
   "execution_count": 115,
   "metadata": {},
   "outputs": [
    {
     "name": "stdout",
     "output_type": "stream",
     "text": [
      "Country Name             0\n",
      "Year                     0\n",
      "Literacy_rate          190\n",
      "birth_rate               2\n",
      "unemployment_rate       90\n",
      "GDP                      7\n",
      "Death_rate               2\n",
      "LF_rate                 95\n",
      "Alcohol Consumption     30\n",
      "population_density       1\n",
      "murder_rate             81\n",
      "primary_rate           104\n",
      "growth_rate              2\n",
      "dtype: int64\n",
      "<class 'pandas.core.frame.DataFrame'>\n",
      "Index: 216 entries, 216 to 431\n",
      "Data columns (total 13 columns):\n",
      " #   Column               Non-Null Count  Dtype  \n",
      "---  ------               --------------  -----  \n",
      " 0   Country Name         216 non-null    object \n",
      " 1   Year                 216 non-null    object \n",
      " 2   Literacy_rate        26 non-null     float64\n",
      " 3   birth_rate           214 non-null    float64\n",
      " 4   unemployment_rate    126 non-null    float64\n",
      " 5   GDP                  209 non-null    float64\n",
      " 6   Death_rate           214 non-null    float64\n",
      " 7   LF_rate              121 non-null    float64\n",
      " 8   Alcohol Consumption  186 non-null    float64\n",
      " 9   population_density   215 non-null    object \n",
      " 10  murder_rate          135 non-null    float64\n",
      " 11  primary_rate         112 non-null    float64\n",
      " 12  growth_rate          214 non-null    float64\n",
      "dtypes: float64(10), object(3)\n",
      "memory usage: 23.6+ KB\n",
      "<class 'pandas.core.frame.DataFrame'>\n",
      "Index: 14 entries, 233 to 423\n",
      "Data columns (total 13 columns):\n",
      " #   Column               Non-Null Count  Dtype  \n",
      "---  ------               --------------  -----  \n",
      " 0   Country Name         14 non-null     object \n",
      " 1   Year                 14 non-null     object \n",
      " 2   Literacy_rate        14 non-null     float64\n",
      " 3   birth_rate           14 non-null     float64\n",
      " 4   unemployment_rate    14 non-null     float64\n",
      " 5   GDP                  14 non-null     float64\n",
      " 6   Death_rate           14 non-null     float64\n",
      " 7   LF_rate              14 non-null     float64\n",
      " 8   Alcohol Consumption  14 non-null     float64\n",
      " 9   population_density   14 non-null     object \n",
      " 10  murder_rate          14 non-null     float64\n",
      " 11  primary_rate         14 non-null     float64\n",
      " 12  growth_rate          14 non-null     float64\n",
      "dtypes: float64(10), object(3)\n",
      "memory usage: 1.5+ KB\n"
     ]
    }
   ],
   "source": [
    "#Lets do a final Check on NaN values. \n",
    "na_counts = df_filtered.isna().sum()\n",
    "print(na_counts)\n",
    "df_filtered.info()\n",
    "#Why dropping all NaN values shrinks our dataset a lot, it won't harm the integrity of the data. \n",
    "#we will drop the NaN values here. \n",
    "df_2019 = df_filtered.dropna()\n",
    "df_2019.info()"
   ]
  },
  {
   "cell_type": "code",
   "execution_count": 116,
   "metadata": {},
   "outputs": [
    {
     "name": "stdout",
     "output_type": "stream",
     "text": [
      "0.00    0.006090\n",
      "0.33    0.172333\n",
      "0.66    0.359979\n",
      "1.00    0.641630\n",
      "Name: Alcohol Consumption, dtype: float64\n"
     ]
    },
    {
     "name": "stderr",
     "output_type": "stream",
     "text": [
      "/var/folders/dg/_hgxmwbx0vn902dz__0p5_440000gn/T/ipykernel_4719/3042536659.py:11: SettingWithCopyWarning:\n",
      "\n",
      "\n",
      "A value is trying to be set on a copy of a slice from a DataFrame.\n",
      "Try using .loc[row_indexer,col_indexer] = value instead\n",
      "\n",
      "See the caveats in the documentation: https://pandas.pydata.org/pandas-docs/stable/user_guide/indexing.html#returning-a-view-versus-a-copy\n",
      "\n"
     ]
    }
   ],
   "source": [
    "#The last step is to creat bins for out terget varibale\n",
    "#will will determine low, high and medium consumption based off of how each country ranks compared to others. \n",
    "# Calculate percentiles\n",
    "percentiles = [0, 0.33, 0.66, 1.0]\n",
    "percentile_values = df_2019['Alcohol Consumption'].quantile(percentiles)\n",
    "print(percentile_values)\n",
    "\n",
    "labels = ['Low', 'Medium', 'High']\n",
    "\n",
    "# Create the categorical variable\n",
    "df_2019[\"Alcohol Consumption Category\"] = pd.cut(df_2019['Alcohol Consumption'], percentile_values, labels=labels)\n",
    "\n"
   ]
  },
  {
   "cell_type": "markdown",
   "metadata": {},
   "source": [
    "## Run the clustering algo with your best guess for - this Alex"
   ]
  },
  {
   "cell_type": "code",
   "execution_count": 117,
   "metadata": {},
   "outputs": [
    {
     "name": "stderr",
     "output_type": "stream",
     "text": [
      "/Library/Frameworks/Python.framework/Versions/3.10/lib/python3.10/site-packages/sklearn/cluster/_kmeans.py:1412: FutureWarning:\n",
      "\n",
      "The default value of `n_init` will change from 10 to 'auto' in 1.4. Set the value of `n_init` explicitly to suppress the warning\n",
      "\n"
     ]
    }
   ],
   "source": [
    "#Run the clustering algo with your best guess for K\n",
    "clust_data = df_2019[['Literacy_rate', 'birth_rate', \"unemployment_rate\", \"GDP\", \"Death_rate\", \"LF_rate\",\"primary_rate\", \"murder_rate\", \"growth_rate\"]]\n",
    "kmeans_obj = KMeans(n_clusters=3, random_state=1).fit(clust_data)"
   ]
  },
  {
   "cell_type": "markdown",
   "metadata": {},
   "source": [
    "## View the results\n"
   ]
  },
  {
   "cell_type": "code",
   "execution_count": 118,
   "metadata": {},
   "outputs": [
    {
     "name": "stdout",
     "output_type": "stream",
     "text": [
      "[[0.84943999 0.28471683 0.27695418 0.04152741 0.40399555 0.41699952\n",
      "  0.52583467 0.11501914 0.38279711]\n",
      " [0.88596915 0.31533572 0.44359277 0.02392108 0.37609415 0.45977792\n",
      "  0.55505758 0.74417081 0.41919638]\n",
      " [0.99386658 0.06590088 0.31708595 0.07912638 0.80471891 0.28044949\n",
      "  0.17460525 0.02831683 0.05737491]]\n",
      "[2 1 1 1 2 0 0 0 0 2 1 0 0 0]\n",
      "1.8004663357630029\n"
     ]
    }
   ],
   "source": [
    "#View the results\n",
    "print(kmeans_obj.cluster_centers_)\n",
    "print(kmeans_obj.labels_) #clusters for vector assignments\n",
    "print(kmeans_obj.inertia_) #distance from centroids, smaller is better"
   ]
  },
  {
   "cell_type": "markdown",
   "metadata": {},
   "source": [
    "## Create a visualization of the results with 2 or 3 variables that you think will best differentiate the clusters"
   ]
  },
  {
   "cell_type": "code",
   "execution_count": 119,
   "metadata": {},
   "outputs": [
    {
     "data": {
      "text/html": [
       "<div>\n",
       "<style scoped>\n",
       "    .dataframe tbody tr th:only-of-type {\n",
       "        vertical-align: middle;\n",
       "    }\n",
       "\n",
       "    .dataframe tbody tr th {\n",
       "        vertical-align: top;\n",
       "    }\n",
       "\n",
       "    .dataframe thead th {\n",
       "        text-align: right;\n",
       "    }\n",
       "</style>\n",
       "<table border=\"1\" class=\"dataframe\">\n",
       "  <thead>\n",
       "    <tr style=\"text-align: right;\">\n",
       "      <th></th>\n",
       "      <th>Country Name</th>\n",
       "      <th>Year</th>\n",
       "      <th>Literacy_rate</th>\n",
       "      <th>birth_rate</th>\n",
       "      <th>unemployment_rate</th>\n",
       "      <th>GDP</th>\n",
       "      <th>Death_rate</th>\n",
       "      <th>LF_rate</th>\n",
       "      <th>Alcohol Consumption</th>\n",
       "      <th>population_density</th>\n",
       "      <th>murder_rate</th>\n",
       "      <th>primary_rate</th>\n",
       "      <th>growth_rate</th>\n",
       "      <th>Alcohol Consumption Category</th>\n",
       "    </tr>\n",
       "  </thead>\n",
       "  <tbody>\n",
       "    <tr>\n",
       "      <th>233</th>\n",
       "      <td>Belarus</td>\n",
       "      <td>2019 [YR2019]</td>\n",
       "      <td>0.998209</td>\n",
       "      <td>0.085087</td>\n",
       "      <td>0.159591</td>\n",
       "      <td>0.033243</td>\n",
       "      <td>0.813909</td>\n",
       "      <td>0.461096</td>\n",
       "      <td>0.641630</td>\n",
       "      <td>46.4107506220284</td>\n",
       "      <td>0.048838</td>\n",
       "      <td>0.029966</td>\n",
       "      <td>0.071532</td>\n",
       "      <td>High</td>\n",
       "    </tr>\n",
       "    <tr>\n",
       "      <th>258</th>\n",
       "      <td>Colombia</td>\n",
       "      <td>2019 [YR2019]</td>\n",
       "      <td>0.932458</td>\n",
       "      <td>0.219775</td>\n",
       "      <td>0.400157</td>\n",
       "      <td>0.031228</td>\n",
       "      <td>0.304639</td>\n",
       "      <td>0.491772</td>\n",
       "      <td>0.289336</td>\n",
       "      <td>45.2342550698513</td>\n",
       "      <td>0.540779</td>\n",
       "      <td>0.538733</td>\n",
       "      <td>0.357014</td>\n",
       "      <td>Medium</td>\n",
       "    </tr>\n",
       "    <tr>\n",
       "      <th>275</th>\n",
       "      <td>El Salvador</td>\n",
       "      <td>2019 [YR2019]</td>\n",
       "      <td>0.845571</td>\n",
       "      <td>0.263170</td>\n",
       "      <td>0.159984</td>\n",
       "      <td>0.020402</td>\n",
       "      <td>0.445241</td>\n",
       "      <td>0.500719</td>\n",
       "      <td>0.193122</td>\n",
       "      <td>303.099276061776</td>\n",
       "      <td>0.801787</td>\n",
       "      <td>0.582439</td>\n",
       "      <td>0.350173</td>\n",
       "      <td>Medium</td>\n",
       "    </tr>\n",
       "    <tr>\n",
       "      <th>301</th>\n",
       "      <td>Honduras</td>\n",
       "      <td>2019 [YR2019]</td>\n",
       "      <td>0.836607</td>\n",
       "      <td>0.393603</td>\n",
       "      <td>0.214230</td>\n",
       "      <td>0.011560</td>\n",
       "      <td>0.229099</td>\n",
       "      <td>0.626618</td>\n",
       "      <td>0.186502</td>\n",
       "      <td>89.0055322191438</td>\n",
       "      <td>0.863225</td>\n",
       "      <td>0.634651</td>\n",
       "      <td>0.536783</td>\n",
       "      <td>Medium</td>\n",
       "    </tr>\n",
       "    <tr>\n",
       "      <th>312</th>\n",
       "      <td>Italy</td>\n",
       "      <td>2019 [YR2019]</td>\n",
       "      <td>0.990747</td>\n",
       "      <td>0.027528</td>\n",
       "      <td>0.387186</td>\n",
       "      <td>0.167985</td>\n",
       "      <td>0.662279</td>\n",
       "      <td>0.161687</td>\n",
       "      <td>0.468878</td>\n",
       "      <td>201.980545589195</td>\n",
       "      <td>0.011145</td>\n",
       "      <td>0.251505</td>\n",
       "      <td>0.069297</td>\n",
       "      <td>High</td>\n",
       "    </tr>\n",
       "  </tbody>\n",
       "</table>\n",
       "</div>"
      ],
      "text/plain": [
       "    Country Name           Year  Literacy_rate  birth_rate  unemployment_rate  \\\n",
       "233      Belarus  2019 [YR2019]       0.998209    0.085087           0.159591   \n",
       "258     Colombia  2019 [YR2019]       0.932458    0.219775           0.400157   \n",
       "275  El Salvador  2019 [YR2019]       0.845571    0.263170           0.159984   \n",
       "301     Honduras  2019 [YR2019]       0.836607    0.393603           0.214230   \n",
       "312        Italy  2019 [YR2019]       0.990747    0.027528           0.387186   \n",
       "\n",
       "          GDP  Death_rate   LF_rate  Alcohol Consumption population_density  \\\n",
       "233  0.033243    0.813909  0.461096             0.641630   46.4107506220284   \n",
       "258  0.031228    0.304639  0.491772             0.289336   45.2342550698513   \n",
       "275  0.020402    0.445241  0.500719             0.193122   303.099276061776   \n",
       "301  0.011560    0.229099  0.626618             0.186502   89.0055322191438   \n",
       "312  0.167985    0.662279  0.161687             0.468878   201.980545589195   \n",
       "\n",
       "     murder_rate  primary_rate  growth_rate Alcohol Consumption Category  \n",
       "233     0.048838      0.029966     0.071532                         High  \n",
       "258     0.540779      0.538733     0.357014                       Medium  \n",
       "275     0.801787      0.582439     0.350173                       Medium  \n",
       "301     0.863225      0.634651     0.536783                       Medium  \n",
       "312     0.011145      0.251505     0.069297                         High  "
      ]
     },
     "execution_count": 119,
     "metadata": {},
     "output_type": "execute_result"
    }
   ],
   "source": [
    "df_2019.head()"
   ]
  },
  {
   "cell_type": "code",
   "execution_count": 120,
   "metadata": {},
   "outputs": [
    {
     "name": "stdout",
     "output_type": "stream",
     "text": [
      "                     Literacy_rate  birth_rate  unemployment_rate       GDP  \\\n",
      "Literacy_rate             1.000000   -0.801912           0.292785  0.453047   \n",
      "birth_rate               -0.801912    1.000000           0.025572 -0.584457   \n",
      "unemployment_rate         0.292785    0.025572           1.000000  0.195769   \n",
      "GDP                       0.453047   -0.584457           0.195769  1.000000   \n",
      "Death_rate                0.311310   -0.618445           0.002181  0.230546   \n",
      "LF_rate                  -0.129972    0.293484          -0.448613 -0.357682   \n",
      "primary_rate             -0.296783    0.550376          -0.117198 -0.270818   \n",
      "murder_rate              -0.035808    0.382783           0.260200 -0.281716   \n",
      "growth_rate              -0.691312    0.951875           0.017323 -0.505274   \n",
      "Alcohol Consumption       0.607993   -0.573147           0.321078  0.425128   \n",
      "\n",
      "                     Death_rate   LF_rate  primary_rate  murder_rate  \\\n",
      "Literacy_rate          0.311310 -0.129972     -0.296783    -0.035808   \n",
      "birth_rate            -0.618445  0.293484      0.550376     0.382783   \n",
      "unemployment_rate      0.002181 -0.448613     -0.117198     0.260200   \n",
      "GDP                    0.230546 -0.357682     -0.270818    -0.281716   \n",
      "Death_rate             1.000000 -0.465283     -0.671501    -0.360376   \n",
      "LF_rate               -0.465283  1.000000      0.496129     0.379214   \n",
      "primary_rate          -0.671501  0.496129      1.000000     0.471448   \n",
      "murder_rate           -0.360376  0.379214      0.471448     1.000000   \n",
      "growth_rate           -0.829527  0.390039      0.653033     0.412585   \n",
      "Alcohol Consumption    0.667733 -0.314321     -0.639045     0.032095   \n",
      "\n",
      "                     growth_rate  Alcohol Consumption  \n",
      "Literacy_rate          -0.691312             0.607993  \n",
      "birth_rate              0.951875            -0.573147  \n",
      "unemployment_rate       0.017323             0.321078  \n",
      "GDP                    -0.505274             0.425128  \n",
      "Death_rate             -0.829527             0.667733  \n",
      "LF_rate                 0.390039            -0.314321  \n",
      "primary_rate            0.653033            -0.639045  \n",
      "murder_rate             0.412585             0.032095  \n",
      "growth_rate             1.000000            -0.667746  \n",
      "Alcohol Consumption    -0.667746             1.000000  \n"
     ]
    }
   ],
   "source": [
    "#lets see which  variables best correlate with our target variable\n",
    "target_variable = \"Alcohol Consumption\"\n",
    "#I am going to make a correlation matrix to test which variables are important\n",
    "columns_of_interest = ['Literacy_rate', 'birth_rate', \"unemployment_rate\", \"GDP\", \"Death_rate\", \"LF_rate\",\"primary_rate\",\"murder_rate\", \"growth_rate\"]\n",
    "\n",
    "# Select the specified columns and the salary column\n",
    "selected_data = df_2019[columns_of_interest + [target_variable]]\n",
    "\n",
    "# Calculate the correlation matrix\n",
    "correlation_matrix = selected_data.corr()\n",
    "\n",
    "# Print the correlation matrix\n",
    "print(correlation_matrix)#death rate and literacy rate seem to have the highest correlation, unemployment does too\n"
   ]
  },
  {
   "cell_type": "code",
   "execution_count": 121,
   "metadata": {},
   "outputs": [],
   "source": [
    "fig = px.scatter(df_2019, x=\"primary_rate\", y=\"Death_rate\", color=kmeans_obj.labels_,\n",
    "                    title=\"Primary Education Rate vs. Death Rate\")\n",
    "fig.show(renderer=\"browser\")"
   ]
  },
  {
   "cell_type": "markdown",
   "metadata": {},
   "source": [
    "## Evaluate the quality of the clustering using total variance explained and silhouette scores"
   ]
  },
  {
   "cell_type": "code",
   "execution_count": 122,
   "metadata": {},
   "outputs": [
    {
     "name": "stdout",
     "output_type": "stream",
     "text": [
      "10.274482087495251\n",
      "8.474015751732248\n",
      "0.8247632999473234\n"
     ]
    },
    {
     "name": "stderr",
     "output_type": "stream",
     "text": [
      "/Library/Frameworks/Python.framework/Versions/3.10/lib/python3.10/site-packages/numpy/core/fromnumeric.py:86: FutureWarning:\n",
      "\n",
      "The behavior of DataFrame.sum with axis=None is deprecated, in a future version this will reduce over both axes and return a scalar. To retain the old behavior, pass axis=0 (or do not pass axis)\n",
      "\n"
     ]
    }
   ],
   "source": [
    "#Evaluate the quality of the clustering using total variance explained and silhouette scores\n",
    "total_sum_squares = np.sum((clust_data - np.mean(clust_data))**2)\n",
    "total = np.sum(total_sum_squares)\n",
    "print(total)\n",
    "\n",
    "between_SSE = (total-kmeans_obj.inertia_)\n",
    "print(between_SSE)\n",
    "Var_explained = between_SSE/total\n",
    "print(Var_explained)#variance explained looks good!"
   ]
  },
  {
   "cell_type": "markdown",
   "metadata": {},
   "source": [
    "## Determine the ideal number of clusters using the elbow method and the silhouette coefficient - Hailey"
   ]
  },
  {
   "cell_type": "code",
   "execution_count": 123,
   "metadata": {},
   "outputs": [],
   "source": [
    "X=df_2019[columns_of_interest]"
   ]
  },
  {
   "cell_type": "code",
   "execution_count": 124,
   "metadata": {},
   "outputs": [
    {
     "data": {
      "image/png": "[encoded data removed]",
      "text/plain": [
       "<Figure size 640x480 with 1 Axes>"
      ]
     },
     "metadata": {},
     "output_type": "display_data"
    }
   ],
   "source": [
    "# scale  features\n",
    "scaler = StandardScaler()\n",
    "X_scaled = scaler.fit_transform(X)\n",
    "\n",
    "# determine ideal number of clusters with elbow method\n",
    "wcss = []  # Within-Cluster-Sum-of-Squares\n",
    "\n",
    "for i in range(1, 11):\n",
    "    kmeans = KMeans(n_clusters=i, init='k-means++', max_iter=300, n_init=10, random_state=42)\n",
    "    kmeans.fit(X_scaled)\n",
    "    wcss.append(kmeans.inertia_)\n",
    "\n",
    "# plot elbow curve\n",
    "plt.plot(range(1, 11), wcss, marker='o')\n",
    "plt.title('Elbow Method for Optimal Number of Clusters')\n",
    "plt.xlabel('Number of Clusters')\n",
    "plt.ylabel('WCSS (Within-Cluster-Sum-of-Squares)')\n",
    "plt.show()"
   ]
  },
  {
   "cell_type": "code",
   "execution_count": 125,
   "metadata": {},
   "outputs": [
    {
     "name": "stderr",
     "output_type": "stream",
     "text": [
      "/Library/Frameworks/Python.framework/Versions/3.10/lib/python3.10/site-packages/sklearn/cluster/_kmeans.py:1412: FutureWarning:\n",
      "\n",
      "The default value of `n_init` will change from 10 to 'auto' in 1.4. Set the value of `n_init` explicitly to suppress the warning\n",
      "\n",
      "/Library/Frameworks/Python.framework/Versions/3.10/lib/python3.10/site-packages/sklearn/cluster/_kmeans.py:1412: FutureWarning:\n",
      "\n",
      "The default value of `n_init` will change from 10 to 'auto' in 1.4. Set the value of `n_init` explicitly to suppress the warning\n",
      "\n",
      "/Library/Frameworks/Python.framework/Versions/3.10/lib/python3.10/site-packages/sklearn/cluster/_kmeans.py:1412: FutureWarning:\n",
      "\n",
      "The default value of `n_init` will change from 10 to 'auto' in 1.4. Set the value of `n_init` explicitly to suppress the warning\n",
      "\n",
      "/Library/Frameworks/Python.framework/Versions/3.10/lib/python3.10/site-packages/sklearn/cluster/_kmeans.py:1412: FutureWarning:\n",
      "\n",
      "The default value of `n_init` will change from 10 to 'auto' in 1.4. Set the value of `n_init` explicitly to suppress the warning\n",
      "\n",
      "/Library/Frameworks/Python.framework/Versions/3.10/lib/python3.10/site-packages/sklearn/cluster/_kmeans.py:1412: FutureWarning:\n",
      "\n",
      "The default value of `n_init` will change from 10 to 'auto' in 1.4. Set the value of `n_init` explicitly to suppress the warning\n",
      "\n",
      "/Library/Frameworks/Python.framework/Versions/3.10/lib/python3.10/site-packages/sklearn/cluster/_kmeans.py:1412: FutureWarning:\n",
      "\n",
      "The default value of `n_init` will change from 10 to 'auto' in 1.4. Set the value of `n_init` explicitly to suppress the warning\n",
      "\n",
      "/Library/Frameworks/Python.framework/Versions/3.10/lib/python3.10/site-packages/sklearn/cluster/_kmeans.py:1412: FutureWarning:\n",
      "\n",
      "The default value of `n_init` will change from 10 to 'auto' in 1.4. Set the value of `n_init` explicitly to suppress the warning\n",
      "\n",
      "/Library/Frameworks/Python.framework/Versions/3.10/lib/python3.10/site-packages/sklearn/cluster/_kmeans.py:1412: FutureWarning:\n",
      "\n",
      "The default value of `n_init` will change from 10 to 'auto' in 1.4. Set the value of `n_init` explicitly to suppress the warning\n",
      "\n",
      "/Library/Frameworks/Python.framework/Versions/3.10/lib/python3.10/site-packages/sklearn/cluster/_kmeans.py:1412: FutureWarning:\n",
      "\n",
      "The default value of `n_init` will change from 10 to 'auto' in 1.4. Set the value of `n_init` explicitly to suppress the warning\n",
      "\n"
     ]
    },
    {
     "data": {
      "image/png": "[encoded data removed]",
      "text/plain": [
       "<Figure size 640x480 with 1 Axes>"
      ]
     },
     "metadata": {},
     "output_type": "display_data"
    }
   ],
   "source": [
    "from sklearn.metrics import silhouette_score\n",
    "\n",
    "# determine the ideal number of clusters using silhouette coefficient\n",
    "silhouette_scores = []\n",
    "\n",
    "for i in range(2, 11):\n",
    "    kmeans = KMeans(n_clusters=i, random_state=42)\n",
    "    kmeans.fit(X_scaled)\n",
    "    silhouette_scores.append(silhouette_score(X_scaled, kmeans.labels_))\n",
    "\n",
    "# plot silhouette scores\n",
    "plt.plot(range(2, 11), silhouette_scores, marker='o')\n",
    "plt.title('Silhouette Method for Optimal Number of Clusters')\n",
    "plt.xlabel('Number of Clusters')\n",
    "plt.ylabel('Silhouette Score')\n",
    "plt.show()"
   ]
  },
  {
   "cell_type": "markdown",
   "metadata": {},
   "source": [
    "## Visualize the results of the elbow method"
   ]
  },
  {
   "cell_type": "code",
   "execution_count": 31,
   "metadata": {},
   "outputs": [],
   "source": [
    "# did above"
   ]
  },
  {
   "cell_type": "markdown",
   "metadata": {},
   "source": [
    "## Use the recommended number of cluster (assuming it's different) to retrain your model and visualize the results"
   ]
  },
  {
   "cell_type": "code",
   "execution_count": 126,
   "metadata": {},
   "outputs": [
    {
     "name": "stderr",
     "output_type": "stream",
     "text": [
      "/Library/Frameworks/Python.framework/Versions/3.10/lib/python3.10/site-packages/sklearn/cluster/_kmeans.py:1412: FutureWarning:\n",
      "\n",
      "The default value of `n_init` will change from 10 to 'auto' in 1.4. Set the value of `n_init` explicitly to suppress the warning\n",
      "\n"
     ]
    }
   ],
   "source": [
    "#Run the clustering algo with your best guess for K\n",
    "clust_data1 = df_2019[['Literacy_rate', 'birth_rate', \"unemployment_rate\", \"GDP\", \"Death_rate\", \"LF_rate\", \"primary_rate\", \"growth_rate\"]]\n",
    "kmeans_obj1 = KMeans(n_clusters=5, random_state=1).fit(clust_data)"
   ]
  },
  {
   "cell_type": "markdown",
   "metadata": {},
   "source": [
    "## Once again evaluate the quality of the clustering using total variance explained and silhouette scores"
   ]
  },
  {
   "cell_type": "code",
   "execution_count": 127,
   "metadata": {},
   "outputs": [
    {
     "name": "stdout",
     "output_type": "stream",
     "text": [
      "8.745169446316023\n",
      "9.423536203532802\n",
      "0.9171787077230775\n"
     ]
    },
    {
     "name": "stderr",
     "output_type": "stream",
     "text": [
      "/Library/Frameworks/Python.framework/Versions/3.10/lib/python3.10/site-packages/numpy/core/fromnumeric.py:86: FutureWarning:\n",
      "\n",
      "The behavior of DataFrame.sum with axis=None is deprecated, in a future version this will reduce over both axes and return a scalar. To retain the old behavior, pass axis=0 (or do not pass axis)\n",
      "\n"
     ]
    }
   ],
   "source": [
    "#Further assess the model using total variance explained\n",
    "#calculate total variance explained\n",
    "total_sum_squares1 = np.sum((clust_data1 - np.mean(clust_data1))**2)\n",
    "total1 = np.sum(total_sum_squares1)\n",
    "print(total1)\n",
    "between_SSE1 = (total-kmeans_obj1.inertia_)\n",
    "print(between_SSE1)\n",
    "Var_explained1 = between_SSE1/total\n",
    "print(Var_explained1)"
   ]
  },
  {
   "cell_type": "markdown",
   "metadata": {},
   "source": [
    "## Use the model to select countries for company to consider"
   ]
  },
  {
   "cell_type": "code",
   "execution_count": 129,
   "metadata": {},
   "outputs": [
    {
     "name": "stdout",
     "output_type": "stream",
     "text": [
      "Index(['Literacy_rate', 'birth_rate', 'unemployment_rate', 'GDP', 'Death_rate',\n",
      "       'LF_rate', 'Alcohol Consumption', 'murder_rate', 'primary_rate',\n",
      "       'growth_rate'],\n",
      "      dtype='object')\n"
     ]
    }
   ],
   "source": [
    "numeric_columns = df_cleaned.select_dtypes(\"float\", \"int\").columns\n",
    "print(numeric_columns)\n",
    "df_cleaned[numeric_columns]= MinMaxScaler().fit_transform(df_cleaned[numeric_columns])"
   ]
  },
  {
   "cell_type": "code",
   "execution_count": 130,
   "metadata": {},
   "outputs": [
    {
     "name": "stdout",
     "output_type": "stream",
     "text": [
      "Country Name             0\n",
      "Year                     0\n",
      "Literacy_rate          367\n",
      "birth_rate               5\n",
      "unemployment_rate      185\n",
      "GDP                     14\n",
      "Death_rate               5\n",
      "LF_rate                204\n",
      "Alcohol Consumption     60\n",
      "population_density       2\n",
      "murder_rate            165\n",
      "primary_rate           222\n",
      "growth_rate              5\n",
      "dtype: int64\n",
      "<class 'pandas.core.frame.DataFrame'>\n",
      "RangeIndex: 432 entries, 0 to 431\n",
      "Data columns (total 13 columns):\n",
      " #   Column               Non-Null Count  Dtype  \n",
      "---  ------               --------------  -----  \n",
      " 0   Country Name         432 non-null    object \n",
      " 1   Year                 432 non-null    object \n",
      " 2   Literacy_rate        65 non-null     float64\n",
      " 3   birth_rate           427 non-null    float64\n",
      " 4   unemployment_rate    247 non-null    float64\n",
      " 5   GDP                  418 non-null    float64\n",
      " 6   Death_rate           427 non-null    float64\n",
      " 7   LF_rate              228 non-null    float64\n",
      " 8   Alcohol Consumption  372 non-null    float64\n",
      " 9   population_density   430 non-null    object \n",
      " 10  murder_rate          267 non-null    float64\n",
      " 11  primary_rate         210 non-null    float64\n",
      " 12  growth_rate          427 non-null    float64\n",
      "dtypes: float64(10), object(3)\n",
      "memory usage: 44.0+ KB\n",
      "<class 'pandas.core.frame.DataFrame'>\n",
      "Index: 30 entries, 23 to 423\n",
      "Data columns (total 13 columns):\n",
      " #   Column               Non-Null Count  Dtype  \n",
      "---  ------               --------------  -----  \n",
      " 0   Country Name         30 non-null     object \n",
      " 1   Year                 30 non-null     object \n",
      " 2   Literacy_rate        30 non-null     float64\n",
      " 3   birth_rate           30 non-null     float64\n",
      " 4   unemployment_rate    30 non-null     float64\n",
      " 5   GDP                  30 non-null     float64\n",
      " 6   Death_rate           30 non-null     float64\n",
      " 7   LF_rate              30 non-null     float64\n",
      " 8   Alcohol Consumption  30 non-null     float64\n",
      " 9   population_density   30 non-null     object \n",
      " 10  murder_rate          30 non-null     float64\n",
      " 11  primary_rate         30 non-null     float64\n",
      " 12  growth_rate          30 non-null     float64\n",
      "dtypes: float64(10), object(3)\n",
      "memory usage: 3.3+ KB\n"
     ]
    }
   ],
   "source": [
    "#Lets do a final Check on NaN values. \n",
    "na_counts = df_cleaned.isna().sum()\n",
    "print(na_counts)\n",
    "df_cleaned.info()\n",
    "#Why dropping all NaN values shrinks our dataset a lot, it won't harm the integrity of the data. \n",
    "#we will drop the NaN values here. \n",
    "df_2015_2019 = df_cleaned.dropna()\n",
    "df_2015_2019.info()"
   ]
  },
  {
   "cell_type": "code",
   "execution_count": 131,
   "metadata": {},
   "outputs": [
    {
     "name": "stdout",
     "output_type": "stream",
     "text": [
      "0.00    0.006090\n",
      "0.33    0.212179\n",
      "0.66    0.394880\n",
      "1.00    0.641630\n",
      "Name: Alcohol Consumption, dtype: float64\n"
     ]
    },
    {
     "name": "stderr",
     "output_type": "stream",
     "text": [
      "/var/folders/dg/_hgxmwbx0vn902dz__0p5_440000gn/T/ipykernel_4719/3212414474.py:11: SettingWithCopyWarning:\n",
      "\n",
      "\n",
      "A value is trying to be set on a copy of a slice from a DataFrame.\n",
      "Try using .loc[row_indexer,col_indexer] = value instead\n",
      "\n",
      "See the caveats in the documentation: https://pandas.pydata.org/pandas-docs/stable/user_guide/indexing.html#returning-a-view-versus-a-copy\n",
      "\n"
     ]
    }
   ],
   "source": [
    "#The last step is to creat bins for out terget varibale\n",
    "#will will determine low, high and medium consumption based off of how each country ranks compared to others. \n",
    "# Calculate percentiles\n",
    "percentiles = [0, 0.33, 0.66, 1.0]\n",
    "percentile_values = df_2015_2019['Alcohol Consumption'].quantile(percentiles)\n",
    "print(percentile_values)\n",
    "\n",
    "labels = ['Low', 'Medium', 'High']\n",
    "\n",
    "# Create the categorical variable\n",
    "df_2015_2019[\"Alcohol Consumption Category\"] = pd.cut(df_2015_2019['Alcohol Consumption'], percentile_values, labels=labels)"
   ]
  },
  {
   "cell_type": "code",
   "execution_count": 132,
   "metadata": {},
   "outputs": [
    {
     "name": "stderr",
     "output_type": "stream",
     "text": [
      "/Library/Frameworks/Python.framework/Versions/3.10/lib/python3.10/site-packages/sklearn/cluster/_kmeans.py:1412: FutureWarning:\n",
      "\n",
      "The default value of `n_init` will change from 10 to 'auto' in 1.4. Set the value of `n_init` explicitly to suppress the warning\n",
      "\n"
     ]
    }
   ],
   "source": [
    "clust_data = df_2015_2019[['Literacy_rate', 'birth_rate', \"unemployment_rate\", \"GDP\", \"Death_rate\", \"LF_rate\",\"murder_rate\", \"primary_rate\", \"growth_rate\"]]\n",
    "kmeans_obj = KMeans(n_clusters=3, random_state=1).fit(clust_data)"
   ]
  },
  {
   "cell_type": "code",
   "execution_count": 133,
   "metadata": {},
   "outputs": [
    {
     "name": "stdout",
     "output_type": "stream",
     "text": [
      "[[0.89173649 0.28507572 0.1931954  0.03721451 0.37024995 0.47663602\n",
      "  0.17193944 0.55876994 0.39851687]\n",
      " [0.9132554  0.28996139 0.77412951 0.05140096 0.49458957 0.29846621\n",
      "  0.18515265 0.51283043 0.36262993]\n",
      " [0.99416997 0.0647679  0.24638566 0.07912638 0.80471891 0.27333126\n",
      "  0.01262436 0.17206104 0.05737491]]\n",
      "[0 0 1 0 0 0 0 0 0 0 0 0 1 1 0 0 2 0 0 0 2 0 0 0 0 2 1 0 0 0]\n",
      "3.3315283323082987\n"
     ]
    }
   ],
   "source": [
    "#View the results\n",
    "print(kmeans_obj.cluster_centers_)\n",
    "print(kmeans_obj.labels_) #clusters for vector assignments\n",
    "print(kmeans_obj.inertia_) #distance from centroids, smaller is better"
   ]
  },
  {
   "cell_type": "code",
   "execution_count": 134,
   "metadata": {},
   "outputs": [
    {
     "data": {
      "text/html": [
       "<div>\n",
       "<style scoped>\n",
       "    .dataframe tbody tr th:only-of-type {\n",
       "        vertical-align: middle;\n",
       "    }\n",
       "\n",
       "    .dataframe tbody tr th {\n",
       "        vertical-align: top;\n",
       "    }\n",
       "\n",
       "    .dataframe thead th {\n",
       "        text-align: right;\n",
       "    }\n",
       "</style>\n",
       "<table border=\"1\" class=\"dataframe\">\n",
       "  <thead>\n",
       "    <tr style=\"text-align: right;\">\n",
       "      <th></th>\n",
       "      <th>Country Name</th>\n",
       "      <th>Year</th>\n",
       "      <th>Literacy_rate</th>\n",
       "      <th>birth_rate</th>\n",
       "      <th>unemployment_rate</th>\n",
       "      <th>GDP</th>\n",
       "      <th>Death_rate</th>\n",
       "      <th>LF_rate</th>\n",
       "      <th>Alcohol Consumption</th>\n",
       "      <th>population_density</th>\n",
       "      <th>murder_rate</th>\n",
       "      <th>primary_rate</th>\n",
       "      <th>growth_rate</th>\n",
       "      <th>Alcohol Consumption Category</th>\n",
       "    </tr>\n",
       "  </thead>\n",
       "  <tbody>\n",
       "    <tr>\n",
       "      <th>23</th>\n",
       "      <td>Bolivia</td>\n",
       "      <td>2015 [YR2015]</td>\n",
       "      <td>0.898038</td>\n",
       "      <td>0.438782</td>\n",
       "      <td>0.091936</td>\n",
       "      <td>0.013851</td>\n",
       "      <td>0.429044</td>\n",
       "      <td>0.437870</td>\n",
       "      <td>0.253673</td>\n",
       "      <td>10.2373165328164</td>\n",
       "      <td>0.045837</td>\n",
       "      <td>0.586202</td>\n",
       "      <td>0.519146</td>\n",
       "      <td>Medium</td>\n",
       "    </tr>\n",
       "    <tr>\n",
       "      <th>26</th>\n",
       "      <td>Brazil</td>\n",
       "      <td>2015 [YR2015]</td>\n",
       "      <td>0.892535</td>\n",
       "      <td>0.217104</td>\n",
       "      <td>0.257789</td>\n",
       "      <td>0.043011</td>\n",
       "      <td>0.375078</td>\n",
       "      <td>0.606820</td>\n",
       "      <td>0.482413</td>\n",
       "      <td>24.5495056316357</td>\n",
       "      <td>0.265461</td>\n",
       "      <td>0.635332</td>\n",
       "      <td>0.335174</td>\n",
       "      <td>High</td>\n",
       "    </tr>\n",
       "    <tr>\n",
       "      <th>32</th>\n",
       "      <td>Cabo Verde</td>\n",
       "      <td>2015 [YR2015]</td>\n",
       "      <td>0.821484</td>\n",
       "      <td>0.326652</td>\n",
       "      <td>0.953268</td>\n",
       "      <td>0.014822</td>\n",
       "      <td>0.324213</td>\n",
       "      <td>0.457957</td>\n",
       "      <td>0.342717</td>\n",
       "      <td>137.013895781638</td>\n",
       "      <td>0.077990</td>\n",
       "      <td>0.682785</td>\n",
       "      <td>0.451235</td>\n",
       "      <td>Medium</td>\n",
       "    </tr>\n",
       "    <tr>\n",
       "      <th>40</th>\n",
       "      <td>Chile</td>\n",
       "      <td>2015 [YR2015]</td>\n",
       "      <td>0.957758</td>\n",
       "      <td>0.179817</td>\n",
       "      <td>0.195174</td>\n",
       "      <td>0.067045</td>\n",
       "      <td>0.353574</td>\n",
       "      <td>0.312364</td>\n",
       "      <td>0.456362</td>\n",
       "      <td>24.03410209648</td>\n",
       "      <td>0.021950</td>\n",
       "      <td>0.434300</td>\n",
       "      <td>0.308260</td>\n",
       "      <td>High</td>\n",
       "    </tr>\n",
       "    <tr>\n",
       "      <th>42</th>\n",
       "      <td>Colombia</td>\n",
       "      <td>2015 [YR2015]</td>\n",
       "      <td>0.922228</td>\n",
       "      <td>0.238207</td>\n",
       "      <td>0.258705</td>\n",
       "      <td>0.030184</td>\n",
       "      <td>0.287890</td>\n",
       "      <td>0.551853</td>\n",
       "      <td>0.295322</td>\n",
       "      <td>42.4693357368184</td>\n",
       "      <td>0.253968</td>\n",
       "      <td>0.583108</td>\n",
       "      <td>0.382631</td>\n",
       "      <td>Medium</td>\n",
       "    </tr>\n",
       "  </tbody>\n",
       "</table>\n",
       "</div>"
      ],
      "text/plain": [
       "   Country Name           Year  Literacy_rate  birth_rate  unemployment_rate  \\\n",
       "23      Bolivia  2015 [YR2015]       0.898038    0.438782           0.091936   \n",
       "26       Brazil  2015 [YR2015]       0.892535    0.217104           0.257789   \n",
       "32   Cabo Verde  2015 [YR2015]       0.821484    0.326652           0.953268   \n",
       "40        Chile  2015 [YR2015]       0.957758    0.179817           0.195174   \n",
       "42     Colombia  2015 [YR2015]       0.922228    0.238207           0.258705   \n",
       "\n",
       "         GDP  Death_rate   LF_rate  Alcohol Consumption population_density  \\\n",
       "23  0.013851    0.429044  0.437870             0.253673   10.2373165328164   \n",
       "26  0.043011    0.375078  0.606820             0.482413   24.5495056316357   \n",
       "32  0.014822    0.324213  0.457957             0.342717   137.013895781638   \n",
       "40  0.067045    0.353574  0.312364             0.456362     24.03410209648   \n",
       "42  0.030184    0.287890  0.551853             0.295322   42.4693357368184   \n",
       "\n",
       "    murder_rate  primary_rate  growth_rate Alcohol Consumption Category  \n",
       "23     0.045837      0.586202     0.519146                       Medium  \n",
       "26     0.265461      0.635332     0.335174                         High  \n",
       "32     0.077990      0.682785     0.451235                       Medium  \n",
       "40     0.021950      0.434300     0.308260                         High  \n",
       "42     0.253968      0.583108     0.382631                       Medium  "
      ]
     },
     "execution_count": 134,
     "metadata": {},
     "output_type": "execute_result"
    }
   ],
   "source": [
    "df_2015_2019.head()"
   ]
  },
  {
   "cell_type": "code",
   "execution_count": 135,
   "metadata": {},
   "outputs": [
    {
     "name": "stdout",
     "output_type": "stream",
     "text": [
      "                     Literacy_rate  birth_rate  unemployment_rate       GDP  \\\n",
      "Literacy_rate             1.000000   -0.651566           0.121145  0.484761   \n",
      "birth_rate               -0.651566    1.000000          -0.057096 -0.654400   \n",
      "unemployment_rate         0.121145   -0.057096           1.000000  0.187344   \n",
      "GDP                       0.484761   -0.654400           0.187344  1.000000   \n",
      "Death_rate                0.283696   -0.560619           0.100102  0.319008   \n",
      "LF_rate                  -0.117592    0.293734          -0.410239 -0.356174   \n",
      "primary_rate             -0.245223    0.486482          -0.081115 -0.301835   \n",
      "murder_rate              -0.174842    0.308291          -0.029502 -0.323514   \n",
      "growth_rate              -0.589360    0.951192          -0.079686 -0.604623   \n",
      "Alcohol Consumption       0.536855   -0.511180           0.359913  0.449347   \n",
      "\n",
      "                     Death_rate   LF_rate  primary_rate  murder_rate  \\\n",
      "Literacy_rate          0.283696 -0.117592     -0.245223    -0.174842   \n",
      "birth_rate            -0.560619  0.293734      0.486482     0.308291   \n",
      "unemployment_rate      0.100102 -0.410239     -0.081115    -0.029502   \n",
      "GDP                    0.319008 -0.356174     -0.301835    -0.323514   \n",
      "Death_rate             1.000000 -0.476975     -0.610336    -0.211308   \n",
      "LF_rate               -0.476975  1.000000      0.638196     0.237657   \n",
      "primary_rate          -0.610336  0.638196      1.000000     0.248809   \n",
      "murder_rate           -0.211308  0.237657      0.248809     1.000000   \n",
      "growth_rate           -0.788800  0.395784      0.588554     0.307582   \n",
      "Alcohol Consumption    0.556600 -0.211435     -0.344654    -0.152243   \n",
      "\n",
      "                     growth_rate  Alcohol Consumption  \n",
      "Literacy_rate          -0.589360             0.536855  \n",
      "birth_rate              0.951192            -0.511180  \n",
      "unemployment_rate      -0.079686             0.359913  \n",
      "GDP                    -0.604623             0.449347  \n",
      "Death_rate             -0.788800             0.556600  \n",
      "LF_rate                 0.395784            -0.211435  \n",
      "primary_rate            0.588554            -0.344654  \n",
      "murder_rate             0.307582            -0.152243  \n",
      "growth_rate             1.000000            -0.586860  \n",
      "Alcohol Consumption    -0.586860             1.000000  \n"
     ]
    }
   ],
   "source": [
    "#lets see which  variables best correlate with our target variable\n",
    "target_variable = \"Alcohol Consumption\"\n",
    "#I am going to make a correlation matrix to test which variables are important\n",
    "columns_of_interest = ['Literacy_rate', 'birth_rate', \"unemployment_rate\", \"GDP\", \"Death_rate\", \"LF_rate\", \"primary_rate\",\"murder_rate\", \"growth_rate\"]\n",
    "\n",
    "# Select the specified columns and the salary column\n",
    "selected_data = df_2015_2019[columns_of_interest + [target_variable]]\n",
    "\n",
    "# Calculate the correlation matrix\n",
    "correlation_matrix = selected_data.corr()\n",
    "\n",
    "# Print the correlation matrix\n",
    "print(correlation_matrix)#death rate and literacy rate seem to have the highest correlation, unemployment does too"
   ]
  },
  {
   "cell_type": "code",
   "execution_count": 136,
   "metadata": {},
   "outputs": [],
   "source": [
    "fig = px.scatter_3d(df_2015_2019, x=\"GDP\", y=\"growth_rate\", z=\"Literacy_rate\", color=kmeans_obj.labels_,\n",
    "                    title=\"GDP vs. Death Rate vs. Literacy_rate\")\n",
    "fig.show(renderer=\"browser\")"
   ]
  },
  {
   "cell_type": "code",
   "execution_count": 137,
   "metadata": {},
   "outputs": [
    {
     "name": "stdout",
     "output_type": "stream",
     "text": [
      "20.720696597357\n",
      "17.389168265048703\n",
      "0.8392173585161589\n"
     ]
    },
    {
     "name": "stderr",
     "output_type": "stream",
     "text": [
      "/Library/Frameworks/Python.framework/Versions/3.10/lib/python3.10/site-packages/numpy/core/fromnumeric.py:86: FutureWarning:\n",
      "\n",
      "The behavior of DataFrame.sum with axis=None is deprecated, in a future version this will reduce over both axes and return a scalar. To retain the old behavior, pass axis=0 (or do not pass axis)\n",
      "\n"
     ]
    }
   ],
   "source": [
    "#Evaluate the quality of the clustering using total variance explained and silhouette scores\n",
    "total_sum_squares = np.sum((clust_data - np.mean(clust_data))**2)\n",
    "total = np.sum(total_sum_squares)\n",
    "print(total)\n",
    "\n",
    "between_SSE = (total-kmeans_obj.inertia_)\n",
    "print(between_SSE)\n",
    "Var_explained = between_SSE/total\n",
    "print(Var_explained)#variance explained looks good!"
   ]
  },
  {
   "cell_type": "code",
   "execution_count": 138,
   "metadata": {},
   "outputs": [],
   "source": [
    "X=df_2015_2019[columns_of_interest]"
   ]
  },
  {
   "cell_type": "code",
   "execution_count": 139,
   "metadata": {},
   "outputs": [
    {
     "data": {
      "image/png": "[encoded data removed]",
      "text/plain": [
       "<Figure size 640x480 with 1 Axes>"
      ]
     },
     "metadata": {},
     "output_type": "display_data"
    }
   ],
   "source": [
    "# scale  features\n",
    "scaler = StandardScaler()\n",
    "X_scaled = scaler.fit_transform(X)\n",
    "\n",
    "# determine ideal number of clusters with elbow method\n",
    "wcss = []  # Within-Cluster-Sum-of-Squares\n",
    "\n",
    "for i in range(1, 11):\n",
    "    kmeans = KMeans(n_clusters=i, init='k-means++', max_iter=300, n_init=10, random_state=42)\n",
    "    kmeans.fit(X_scaled)\n",
    "    wcss.append(kmeans.inertia_)\n",
    "\n",
    "# plot elbow curve\n",
    "plt.plot(range(1, 11), wcss, marker='o')\n",
    "plt.title('Elbow Method for Optimal Number of Clusters')\n",
    "plt.xlabel('Number of Clusters')\n",
    "plt.ylabel('WCSS (Within-Cluster-Sum-of-Squares)')\n",
    "plt.show()"
   ]
  },
  {
   "cell_type": "code",
   "execution_count": 140,
   "metadata": {},
   "outputs": [
    {
     "name": "stderr",
     "output_type": "stream",
     "text": [
      "/Library/Frameworks/Python.framework/Versions/3.10/lib/python3.10/site-packages/sklearn/cluster/_kmeans.py:1412: FutureWarning:\n",
      "\n",
      "The default value of `n_init` will change from 10 to 'auto' in 1.4. Set the value of `n_init` explicitly to suppress the warning\n",
      "\n",
      "/Library/Frameworks/Python.framework/Versions/3.10/lib/python3.10/site-packages/sklearn/cluster/_kmeans.py:1412: FutureWarning:\n",
      "\n",
      "The default value of `n_init` will change from 10 to 'auto' in 1.4. Set the value of `n_init` explicitly to suppress the warning\n",
      "\n",
      "/Library/Frameworks/Python.framework/Versions/3.10/lib/python3.10/site-packages/sklearn/cluster/_kmeans.py:1412: FutureWarning:\n",
      "\n",
      "The default value of `n_init` will change from 10 to 'auto' in 1.4. Set the value of `n_init` explicitly to suppress the warning\n",
      "\n",
      "/Library/Frameworks/Python.framework/Versions/3.10/lib/python3.10/site-packages/sklearn/cluster/_kmeans.py:1412: FutureWarning:\n",
      "\n",
      "The default value of `n_init` will change from 10 to 'auto' in 1.4. Set the value of `n_init` explicitly to suppress the warning\n",
      "\n",
      "/Library/Frameworks/Python.framework/Versions/3.10/lib/python3.10/site-packages/sklearn/cluster/_kmeans.py:1412: FutureWarning:\n",
      "\n",
      "The default value of `n_init` will change from 10 to 'auto' in 1.4. Set the value of `n_init` explicitly to suppress the warning\n",
      "\n",
      "/Library/Frameworks/Python.framework/Versions/3.10/lib/python3.10/site-packages/sklearn/cluster/_kmeans.py:1412: FutureWarning:\n",
      "\n",
      "The default value of `n_init` will change from 10 to 'auto' in 1.4. Set the value of `n_init` explicitly to suppress the warning\n",
      "\n",
      "/Library/Frameworks/Python.framework/Versions/3.10/lib/python3.10/site-packages/sklearn/cluster/_kmeans.py:1412: FutureWarning:\n",
      "\n",
      "The default value of `n_init` will change from 10 to 'auto' in 1.4. Set the value of `n_init` explicitly to suppress the warning\n",
      "\n",
      "/Library/Frameworks/Python.framework/Versions/3.10/lib/python3.10/site-packages/sklearn/cluster/_kmeans.py:1412: FutureWarning:\n",
      "\n",
      "The default value of `n_init` will change from 10 to 'auto' in 1.4. Set the value of `n_init` explicitly to suppress the warning\n",
      "\n",
      "/Library/Frameworks/Python.framework/Versions/3.10/lib/python3.10/site-packages/sklearn/cluster/_kmeans.py:1412: FutureWarning:\n",
      "\n",
      "The default value of `n_init` will change from 10 to 'auto' in 1.4. Set the value of `n_init` explicitly to suppress the warning\n",
      "\n"
     ]
    },
    {
     "data": {
      "image/png": "[encoded data removed]",
      "text/plain": [
       "<Figure size 640x480 with 1 Axes>"
      ]
     },
     "metadata": {},
     "output_type": "display_data"
    }
   ],
   "source": [
    "from sklearn.metrics import silhouette_score\n",
    "\n",
    "# determine the ideal number of clusters using silhouette coefficient\n",
    "silhouette_scores = []\n",
    "\n",
    "for i in range(2, 11):\n",
    "    kmeans = KMeans(n_clusters=i, random_state=42)\n",
    "    kmeans.fit(X_scaled)\n",
    "    silhouette_scores.append(silhouette_score(X_scaled, kmeans.labels_))\n",
    "\n",
    "# plot silhouette scores\n",
    "plt.plot(range(2, 11), silhouette_scores, marker='o')\n",
    "plt.title('Silhouette Method for Optimal Number of Clusters')\n",
    "plt.xlabel('Number of Clusters')\n",
    "plt.ylabel('Silhouette Score')\n",
    "plt.show()"
   ]
  }
 ],
 "metadata": {
  "kernelspec": {
   "display_name": "Python 3",
   "language": "python",
   "name": "python3"
  },
  "language_info": {
   "codemirror_mode": {
    "name": "ipython",
    "version": 3
   },
   "file_extension": ".py",
   "mimetype": "text/x-python",
   "name": "python",
   "nbconvert_exporter": "python",
   "pygments_lexer": "ipython3",
   "version": "3.10.2"
  },
  "orig_nbformat": 4
 },
 "nbformat": 4,
 "nbformat_minor": 2
}
